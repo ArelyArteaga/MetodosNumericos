{
  "nbformat": 4,
  "nbformat_minor": 0,
  "metadata": {
    "colab": {
      "provenance": [],
      "authorship_tag": "ABX9TyP7x+DTsqQP2EXLUUa9yuoy"
    },
    "kernelspec": {
      "name": "python3",
      "display_name": "Python 3"
    },
    "language_info": {
      "name": "python"
    }
  },
  "cells": [
    {
      "cell_type": "markdown",
      "metadata": {
        "id": "e-sIN1B1cw3B"
      },
      "source": [
        "PRUEBA 1"
      ]
    },
    {
      "cell_type": "code",
      "metadata": {
        "colab": {
          "base_uri": "https://localhost:8080/",
          "height": 129
        },
        "id": "YLhMWCOuH6uB",
        "outputId": "d057531c-6898-4a2a-a884-898d468e27d9"
      },
      "source": [
        "import numpy as np\n",
        "\n",
        "x = np.array([-1, 0, 1, 2]) # x coordinates in space\n",
        "y = np.array([1, 1, 2, 0]) # f(x)\n",
        "\n",
        "def getNDDCoeffs(x, y):\n",
        "    \"\"\" Creates NDD pyramid and extracts coeffs \"\"\"\n",
        "    n = np.shape(y)[0]\n",
        "    pyramid = np.zeros([n, n]) # Create a square matrix to hold pyramid\n",
        "    pyramid[::,0] = y # first column is y\n",
        "    for j in range(1,n):\n",
        "        for i in range(n-j):\n",
        "            # create pyramid by updating other columns\n",
        "            pyramid[i][j] = (pyramid[i+1][j-1] - pyramid[i][j-1]) / (x[i+j] - x[i])\n",
        "    return pyramid[0] # return first row\n",
        "\n",
        "coeff_vector = getNDDCoeffs(x, y)\n",
        "print coeff_vector"
      ],
      "execution_count": null,
      "outputs": [
        {
          "output_type": "error",
          "ename": "SyntaxError",
          "evalue": "ignored",
          "traceback": [
            "\u001b[0;36m  File \u001b[0;32m\"<ipython-input-1-ad2ea4582f28>\"\u001b[0;36m, line \u001b[0;32m18\u001b[0m\n\u001b[0;31m    print coeff_vector\u001b[0m\n\u001b[0m                     ^\u001b[0m\n\u001b[0;31mSyntaxError\u001b[0m\u001b[0;31m:\u001b[0m Missing parentheses in call to 'print'. Did you mean print(coeff_vector)?\n"
          ]
        }
      ]
    },
    {
      "cell_type": "markdown",
      "metadata": {
        "id": "NqOv-dBhcvAn"
      },
      "source": [
        "PRUEBA 2"
      ]
    },
    {
      "cell_type": "code",
      "metadata": {
        "colab": {
          "base_uri": "https://localhost:8080/",
          "height": 129
        },
        "id": "GqfwviFncxuO",
        "outputId": "fa8cc4f3-b9de-4e92-c173-6936b3b1ec27"
      },
      "source": [
        "# ...\n",
        "# crear tantos polinomios como tamaño tenga el vector_coeficiente\n",
        "final_pol = np.polynomial.Polynomial([0..0018251]) #nuestro polinomio objetivo\n",
        "n = coeff_vector.shape[0] # get number of coeffs\n",
        "for i in range(n):\n",
        "    p = np.polynomial.Polynomial([1.]) # create a dummy polynomial\n",
        "    for j in range(i):\n",
        "        # cada vector tiene un grado de i\n",
        "        # sus términos dependen de los valores de 'x'\n",
        "        p_temp = np.polynomial.Polynomial([-x[j], 1.]) # (x - x_j)\n",
        "        p = np.polymul(p, p_temp) # multiplicar el maniquí con la expresión\n",
        "    p *= coeff_vector[i] # apply coefficient\n",
        "    final_pol = np.polyadd(final_pol, p) # añadir al polinomio objetivo\n",
        "\n",
        "p = np.flip(final_pol[0].coef, axis=0)\n",
        "print(p)"
      ],
      "execution_count": null,
      "outputs": [
        {
          "output_type": "error",
          "ename": "SyntaxError",
          "evalue": "ignored",
          "traceback": [
            "\u001b[0;36m  File \u001b[0;32m\"<ipython-input-4-439a19909636>\"\u001b[0;36m, line \u001b[0;32m3\u001b[0m\n\u001b[0;31m    final_pol = np.polynomial.Polynomial([0..0018251]) #nuestro polinomio objetivo\u001b[0m\n\u001b[0m                                                   ^\u001b[0m\n\u001b[0;31mSyntaxError\u001b[0m\u001b[0;31m:\u001b[0m invalid syntax\n"
          ]
        }
      ]
    },
    {
      "cell_type": "markdown",
      "metadata": {
        "id": "3r8MyUrJcx_6"
      },
      "source": [
        "PRUEBA 3"
      ]
    },
    {
      "cell_type": "code",
      "metadata": {
        "id": "vSF2K847cyNX"
      },
      "source": [
        "def newton_interpolation(x, y, xi):\n",
        "    #length/number of datapoints\n",
        "    n = len(x)\n",
        "    #divided difference initialization\n",
        "    fdd = [[None for x in range(n)] for x in range(n)]\n",
        "    #f(X) values at different degrees\n",
        "    yint = [None for x in range(n)]\n",
        "    #error value\n",
        "    ea = [None for x in range(n)]\n",
        "\n",
        "    #finding divided difference\n",
        "    for i in range(n):\n",
        "        fdd[i][0] = y[i]\n",
        "    for j in range(1,n):\n",
        "        for i in range(n-j):\n",
        "            fdd[i][j] = (fdd[i+1][j-1] - fdd[i][j-1])/(x[i+j]-x[i])\n",
        "\n",
        "    #just printing dd here\n",
        "    fdd_table = pd.DataFrame(fdd)\n",
        "    print(fdd_table)\n",
        "\n",
        "    #interpolating xi\n",
        "    xterm = 1\n",
        "    yint[0] = fdd[0][0]\n",
        "    for order in range(1, n):\n",
        "        xterm = xterm * (xi - x[order-1])\n",
        "        yint2 = yint[order-1] + fdd[0][order]*xterm\n",
        "        ea[order-1] = yint2 - yint[order-1]\n",
        "        yint[order] = yint2\n",
        "\n",
        "    #returning a map for pandas dataframe\n",
        "    return map(lambda yy, ee : [yy, ee], yint, ea)"
      ],
      "execution_count": null,
      "outputs": []
    },
    {
      "cell_type": "markdown",
      "metadata": {
        "id": "_3TMdJ3tcyYX"
      },
      "source": []
    },
    {
      "cell_type": "code",
      "metadata": {
        "colab": {
          "base_uri": "https://localhost:8080/"
        },
        "id": "KpvO17sC09JV",
        "outputId": "f9a4f6e8-552f-4317-f8bd-9282f87fa040"
      },
      "source": [
        " # Función para encontrar el término del producto\n",
        "def proterm(i, value, x):\n",
        "    pro = 1;\n",
        "    for j in range(i):\n",
        "        pro = pro * (value - x[j]);\n",
        "    return pro;\n",
        "\n",
        "# Función para calcular\n",
        "# la tabla de diferencias dividida\n",
        "def dividedDiffTable(x, y, n):\n",
        "\n",
        "    for i in range(1, n):\n",
        "        for j in range(n - i):\n",
        "            y[j][i] = ((y[j][i - 1] - y[j + 1][i - 1]) /\n",
        "                                     (x[j] - x[i + j]));\n",
        "    return y;\n",
        "\n",
        "# Función para aplicar la fórmula de\n",
        "# formula divided difference\n",
        "def applyFormula(value, x, y, n):\n",
        "\n",
        "    sum = y[0][0];\n",
        "\n",
        "    for i in range(1, n):\n",
        "        sum = sum + (proterm(i, value, x) * y[0][i]);\n",
        "\n",
        "    return sum;\n",
        "\n",
        "# Función de visualización de la tabla de diferencias\n",
        "# tabla de diferencias\n",
        "def printDiffTable(y, n):\n",
        "\n",
        "    for i in range(n):\n",
        "        for j in range(n - i):\n",
        "            print(round(y[i][j], 4), \"\\t\",\n",
        "                               end = \" \");\n",
        "\n",
        "        print(\"\");\n",
        "\n",
        "# Código del controlador\n",
        "\n",
        "# número de entradas dadas\n",
        "n = 4;\n",
        "y = [[0 for i in range(10)]\n",
        "        for j in range(10)];\n",
        "x = [ 5, 6, 9, 11 ];\n",
        "\n",
        "# y[][] se utiliza para la diferencia dividida\n",
        "# tabla donde y[][0] se utiliza para la entrada\n",
        "y[0][0] = 12;\n",
        "y[1][0] = 13;\n",
        "y[2][0] = 14;\n",
        "y[3][0] = 16;\n",
        "\n",
        "# calcular la tabla de diferencias divididas\n",
        "y=dividedDiffTable(x, y, n);\n",
        "\n",
        "# visualización de la tabla de diferencias divididas\n",
        "printDiffTable(y, n);\n",
        "\n",
        "# valor a interpolar\n",
        "value = 7;\n",
        "\n",
        "# imprimir el valor\n",
        "print(\"\\nValue at\", value, \"is\",\n",
        "        round(applyFormula(value, x, y, n), 2))"
      ],
      "execution_count": null,
      "outputs": [
        {
          "output_type": "stream",
          "name": "stdout",
          "text": [
            "12 \t 1.0 \t -0.1667 \t 0.05 \t \n",
            "13 \t 0.3333 \t 0.1333 \t \n",
            "14 \t 1.0 \t \n",
            "16 \t \n",
            "\n",
            "Value at 7 is 13.47\n"
          ]
        }
      ]
    },
    {
      "cell_type": "code",
      "metadata": {
        "colab": {
          "base_uri": "https://localhost:8080/",
          "height": 350
        },
        "id": "yPj9oBJjcyi_",
        "outputId": "7da31d38-5def-4518-db3f-0106ae6a0f37"
      },
      "source": [
        "# Python3 program for implementing\n",
        "# fórmula de la diferencia dividida de Newton\n",
        "\n",
        "# Función para encontrar el término del producto\n",
        "def proterm(i, value, x):\n",
        "    pro = 1;\n",
        "    for j in range(i):\n",
        "        pro = pro * (value - x[j]);\n",
        "    return pro;\n",
        "\n",
        "# Función para calcular\n",
        "# la tabla de diferencias dividida\n",
        "def dividedDiffTable(x, y, n):\n",
        "\n",
        "    for i in range(1, n):\n",
        "        for j in range(n - i):\n",
        "            y[j][i] = ((y[j][i - 1] - y[j + 1][i - 1]) /  (x[j] - x[i + j]));\n",
        "    return y;\n",
        "\n",
        "# Función para aplicar la fórmula de\n",
        "# formula divided difference\n",
        "def applyFormula(value, x, y, n):\n",
        "\n",
        "    sum = y[0][0];\n",
        "\n",
        "    for i in range(1, n):\n",
        "        sum = sum + (proterm(i, value, x) * y[0][i]);\n",
        "\n",
        "    return sum;\n",
        "\n",
        "# Función de visualización de la tabla de diferencias\n",
        "# tabla de diferencias\n",
        "def printDiffTable(y, n):\n",
        "\n",
        "    for i in range(n):\n",
        "        for j in range(n - i):\n",
        "            print(round(y[i][j], 4), \"\\t\",\n",
        "                               end = \" \");\n",
        "\n",
        "        print(\"\");\n",
        "\n",
        "# Código del controlador\n",
        "\n",
        "# número de entradas dadas\n",
        "n = 5;\n",
        "y = [[0 for i in range(10)]\n",
        "        for j in range(10)];\n",
        "x = [ 1, 1.3, 1.6, 1,9, 2.2 ];\n",
        "\n",
        "# y[][] se utiliza para la diferencia dividida\n",
        "# tabla donde y[][0] se utiliza para la entrada\n",
        "y[0][0] = 0.7651977;\n",
        "y[1][0] = 0.6200860;\n",
        "y[2][0] = 0.4554022;\n",
        "y[3][0] = 0.2818186;\n",
        "y[4][0] = 0.1103623;\n",
        "\n",
        "# calcular la tabla de diferencias divididas\n",
        "y=dividedDiffTable(x, y, n);\n",
        "\n",
        "# visualización de la tabla de diferencias divididas\n",
        "printDiffTable(y, n);\n",
        "\n",
        "# valor a interpolar\n",
        "valor =0.0018251;\n",
        "\n",
        "# imprimir el valor\n",
        "print(\"\\nValue at\", value, \"is\",\n",
        "        round(applyFormula(value, x, y, n), 2))\n",
        "\n"
      ],
      "execution_count": null,
      "outputs": [
        {
          "output_type": "error",
          "ename": "ZeroDivisionError",
          "evalue": "ignored",
          "traceback": [
            "\u001b[0;31m---------------------------------------------------------------------------\u001b[0m",
            "\u001b[0;31mZeroDivisionError\u001b[0m                         Traceback (most recent call last)",
            "\u001b[0;32m<ipython-input-20-9a435d03a11f>\u001b[0m in \u001b[0;36m<module>\u001b[0;34m()\u001b[0m\n\u001b[1;32m     57\u001b[0m \u001b[0;34m\u001b[0m\u001b[0m\n\u001b[1;32m     58\u001b[0m \u001b[0;31m# calcular la tabla de diferencias divididas\u001b[0m\u001b[0;34m\u001b[0m\u001b[0;34m\u001b[0m\u001b[0;34m\u001b[0m\u001b[0m\n\u001b[0;32m---> 59\u001b[0;31m \u001b[0my\u001b[0m\u001b[0;34m=\u001b[0m\u001b[0mdividedDiffTable\u001b[0m\u001b[0;34m(\u001b[0m\u001b[0mx\u001b[0m\u001b[0;34m,\u001b[0m \u001b[0my\u001b[0m\u001b[0;34m,\u001b[0m \u001b[0mn\u001b[0m\u001b[0;34m)\u001b[0m\u001b[0;34m;\u001b[0m\u001b[0;34m\u001b[0m\u001b[0;34m\u001b[0m\u001b[0m\n\u001b[0m\u001b[1;32m     60\u001b[0m \u001b[0;34m\u001b[0m\u001b[0m\n\u001b[1;32m     61\u001b[0m \u001b[0;31m# visualización de la tabla de diferencias divididas\u001b[0m\u001b[0;34m\u001b[0m\u001b[0;34m\u001b[0m\u001b[0;34m\u001b[0m\u001b[0m\n",
            "\u001b[0;32m<ipython-input-20-9a435d03a11f>\u001b[0m in \u001b[0;36mdividedDiffTable\u001b[0;34m(x, y, n)\u001b[0m\n\u001b[1;32m     15\u001b[0m     \u001b[0;32mfor\u001b[0m \u001b[0mi\u001b[0m \u001b[0;32min\u001b[0m \u001b[0mrange\u001b[0m\u001b[0;34m(\u001b[0m\u001b[0;36m1\u001b[0m\u001b[0;34m,\u001b[0m \u001b[0mn\u001b[0m\u001b[0;34m)\u001b[0m\u001b[0;34m:\u001b[0m\u001b[0;34m\u001b[0m\u001b[0;34m\u001b[0m\u001b[0m\n\u001b[1;32m     16\u001b[0m         \u001b[0;32mfor\u001b[0m \u001b[0mj\u001b[0m \u001b[0;32min\u001b[0m \u001b[0mrange\u001b[0m\u001b[0;34m(\u001b[0m\u001b[0mn\u001b[0m \u001b[0;34m-\u001b[0m \u001b[0mi\u001b[0m\u001b[0;34m)\u001b[0m\u001b[0;34m:\u001b[0m\u001b[0;34m\u001b[0m\u001b[0;34m\u001b[0m\u001b[0m\n\u001b[0;32m---> 17\u001b[0;31m             \u001b[0my\u001b[0m\u001b[0;34m[\u001b[0m\u001b[0mj\u001b[0m\u001b[0;34m]\u001b[0m\u001b[0;34m[\u001b[0m\u001b[0mi\u001b[0m\u001b[0;34m]\u001b[0m \u001b[0;34m=\u001b[0m \u001b[0;34m(\u001b[0m\u001b[0;34m(\u001b[0m\u001b[0my\u001b[0m\u001b[0;34m[\u001b[0m\u001b[0mj\u001b[0m\u001b[0;34m]\u001b[0m\u001b[0;34m[\u001b[0m\u001b[0mi\u001b[0m \u001b[0;34m-\u001b[0m \u001b[0;36m1\u001b[0m\u001b[0;34m]\u001b[0m \u001b[0;34m-\u001b[0m \u001b[0my\u001b[0m\u001b[0;34m[\u001b[0m\u001b[0mj\u001b[0m \u001b[0;34m+\u001b[0m \u001b[0;36m1\u001b[0m\u001b[0;34m]\u001b[0m\u001b[0;34m[\u001b[0m\u001b[0mi\u001b[0m \u001b[0;34m-\u001b[0m \u001b[0;36m1\u001b[0m\u001b[0;34m]\u001b[0m\u001b[0;34m)\u001b[0m \u001b[0;34m/\u001b[0m  \u001b[0;34m(\u001b[0m\u001b[0mx\u001b[0m\u001b[0;34m[\u001b[0m\u001b[0mj\u001b[0m\u001b[0;34m]\u001b[0m \u001b[0;34m-\u001b[0m \u001b[0mx\u001b[0m\u001b[0;34m[\u001b[0m\u001b[0mi\u001b[0m \u001b[0;34m+\u001b[0m \u001b[0mj\u001b[0m\u001b[0;34m]\u001b[0m\u001b[0;34m)\u001b[0m\u001b[0;34m)\u001b[0m\u001b[0;34m;\u001b[0m\u001b[0;34m\u001b[0m\u001b[0;34m\u001b[0m\u001b[0m\n\u001b[0m\u001b[1;32m     18\u001b[0m     \u001b[0;32mreturn\u001b[0m \u001b[0my\u001b[0m\u001b[0;34m;\u001b[0m\u001b[0;34m\u001b[0m\u001b[0;34m\u001b[0m\u001b[0m\n\u001b[1;32m     19\u001b[0m \u001b[0;34m\u001b[0m\u001b[0m\n",
            "\u001b[0;31mZeroDivisionError\u001b[0m: float division by zero"
          ]
        }
      ]
    },
    {
      "cell_type": "markdown",
      "metadata": {
        "id": "-NvjuNqjcyxE"
      },
      "source": []
    },
    {
      "cell_type": "code",
      "metadata": {
        "id": "sp8UvYpscy_s"
      },
      "source": [
        "def _poly_newton_coefficient(x, y):\n",
        "    \"\"\"\n",
        "    x: list or np array contanining x data points\n",
        "    y: list or np array contanining y data points\n",
        "    \"\"\"\n",
        "\n",
        "    m = len(x)\n",
        "\n",
        "    x = np.copy(x)\n",
        "    a = np.copy(y)\n",
        "    for k in range(1, m):\n",
        "        a[k:m] = (a[k:m] - a[k - 1])/(x[k:m] - x[k - 1])\n",
        "\n",
        "    return a\n",
        "\n",
        "def newton_polynomial(x_data, y_data, x):\n",
        "    \"\"\"\n",
        "    x_data: data points at x\n",
        "    y_data: data points at y\n",
        "    x: evaluation point(s)\n",
        "    \"\"\"\n",
        "    a = _poly_newton_coefficient(x_data, y_data)\n",
        "    n = len(x_data) - 1  # Degree of polynomial\n",
        "    p = a[n]\n",
        "\n",
        "    for k in range(1, n + 1):\n",
        "        p = a[n - k] + (x - x_data[n - k])*p\n",
        "\n",
        "    return p"
      ],
      "execution_count": null,
      "outputs": []
    },
    {
      "cell_type": "markdown",
      "metadata": {
        "id": "6bVukPwNczJl"
      },
      "source": []
    },
    {
      "cell_type": "code",
      "metadata": {
        "colab": {
          "base_uri": "https://localhost:8080/",
          "height": 129
        },
        "id": "CzWG_ICiczTl",
        "outputId": "2478a9a6-91cc-4d10-b0b9-0f3dd30b2463"
      },
      "source": [
        "import numpy as np\n",
        "import matplotlib.pyplot as plt\n",
        "\n",
        "def coef(x, y):\n",
        "    '''x : array of data points\n",
        "       y : array of f(x)  '''\n",
        "    x.astype(float)\n",
        "    y.astype(float)\n",
        "    n = len(x)\n",
        "    a = []\n",
        "    for i in range(n):\n",
        "        a.append(y[i])\n",
        "\n",
        "    for j in range(1, n):\n",
        "\n",
        "        for i in range(n-1, j-1, -1):\n",
        "            a[i] = float(a[i]-a[i-1])/float(x[i]-x[i-j])\n",
        "\n",
        "    return np.array(a) # return an array of coefficient\n",
        "\n",
        "def Eval(a, x, r):\n",
        "\n",
        "     ''' a : array returned by function coef()\n",
        "        x : array of data points\n",
        "        r : the node to interpolate at  '''\n",
        "\n",
        "    x.astype(float)\n",
        "    n = len( a ) - 1\n",
        "    temp = a[n] + (r - x[n])\n",
        "    for i in range( n - 1, -1, -1 ):\n",
        "        temp = temp * ( r - x[i] ) + a[i]\n",
        "    return temp # return the y_value interpolation"
      ],
      "execution_count": null,
      "outputs": [
        {
          "output_type": "error",
          "ename": "IndentationError",
          "evalue": "ignored",
          "traceback": [
            "\u001b[0;36m  File \u001b[0;32m\"<ipython-input-24-40d0ee8455cd>\"\u001b[0;36m, line \u001b[0;32m27\u001b[0m\n\u001b[0;31m    x.astype(float)\u001b[0m\n\u001b[0m                   ^\u001b[0m\n\u001b[0;31mIndentationError\u001b[0m\u001b[0;31m:\u001b[0m unindent does not match any outer indentation level\n"
          ]
        }
      ]
    },
    {
      "cell_type": "markdown",
      "metadata": {
        "id": "RoQKbgAEczed"
      },
      "source": []
    },
    {
      "cell_type": "code",
      "metadata": {
        "id": "6AFKbmCeczpQ"
      },
      "source": [
        "import numpy as np\n",
        "from numpy import *\n",
        "\n",
        "def coeficiente(x,y) :\n",
        "    ''' x: absisas x_i\n",
        "        y : ordenadas f(x_i)'''\n",
        "\n",
        "    x.astype(float)\n",
        "    y.astype(float)\n",
        "    n = len(x)\n",
        "    F = zeros((n,n), dtype=float)\n",
        "    b = zeros(n)\n",
        "    for i in range(0,n):\n",
        "        F[i,0]=y[i]\n",
        "\n",
        "\n",
        "\n",
        "    for j in range(1, n):\n",
        "        for i in range(j,n):\n",
        "            F[i,j] = float(F[i,j-1]-F[i-1,j-1])/float(x[i]-x[i-j])\n",
        "\n",
        "\n",
        "    for i in range(0,n):\n",
        "        b[i] = F[i,i]\n",
        "\n",
        "    return np.array(b) # return an array of coefficient\n",
        "\n",
        "def Eval(a, x, r):\n",
        "\n",
        "    '''  a : retorno de la funcion coeficiente()\n",
        "         x : abcisas x_i\n",
        "         r : abcisa a interpolar\n",
        "    '''\n",
        "\n",
        "    x.astype(float)\n",
        "    n = len( a ) - 1\n",
        "    temp = a[n]\n",
        "    for i in range( n - 1, -1, -1 ):\n",
        "        temp = temp * ( r - x[i] ) + a[i]\n",
        "    return temp # return the y_value interpolation"
      ],
      "execution_count": null,
      "outputs": []
    },
    {
      "cell_type": "markdown",
      "metadata": {
        "id": "__b8JP-Zcz0E"
      },
      "source": []
    },
    {
      "cell_type": "code",
      "metadata": {
        "colab": {
          "base_uri": "https://localhost:8080/",
          "height": 248
        },
        "id": "yTJxBwuscz_p",
        "outputId": "f8700f34-4b01-4e4b-a9f4-30a7e721098f"
      },
      "source": [
        "import numpy as np\n",
        "\n",
        "x=np.array([1.0, 1.3, 1.6, 1.9, 2,2],float)\n",
        "y=np.array([ 0.7651977, 0.6200860, 0.4554022, 0.2818186, 0.1103623],float)\n",
        "n=len(x)\n",
        "p=np.zeros([n,n+1])#creating a Tree table (n x n+1 array)\n",
        "value =float(input(\"Enter the point at which you want to calculate the value of the polynomial: \"))\n",
        "# first two columns of the table are filled with x and y data points\n",
        "for i in range(n):\n",
        "\n",
        "        p[i,0]=x[i]\n",
        "        p[i,]=y[i]\n",
        "        p[i,2]=y[i]\n",
        "        p[i,3]=y[i]\n",
        "        p[i,4]=y[i]\n",
        "\n",
        "\n",
        "## algorithm for tree table from column 2 two n+1\n",
        "for i in range(2,n+1): #column\n",
        "  for j in range(n+1-i):# defines row\n",
        "    p[j,i]=(p[j+1,i-1]-p[j,i-1])/(x[j+i-1]-x[j])#Tree Table\n",
        "np.set_printoptions(suppress=True)## this suppress the scientific symbol(e) and returns values in normal digits\n",
        "\n",
        "# print(p) ## can check the complete Tree table here for NDDP\n",
        "b=p[0][1:]#This vector contains the unknown coefficients in the polynomial which are the top elements of each column.\n",
        "print(\"b= \",b)\n",
        "print(\"x= \",x)\n",
        "lst=[] # list where we will append the values of prouct terms\n",
        "\n",
        "t=1\n",
        "for i in range(len(x)):\n",
        "    t*=(value-x[i]) ##(x-x0), (x-x0)(x-x1), (x-x0)(x-x1)(x-x2) etc..\n",
        "    lst.append(t)\n",
        "print(\"The list of product elements \",lst,end = ' ')\n",
        "## creating a general function\n",
        "f=b[0]\n",
        "for k in range(1,len(b)):\n",
        "  f+=b[k]*lst[k-1] ## important**[k-1]** not k because in list we use one step earlier element. For example for b1 we have to use (x-x0), for b2, we use (x-x0)(x-x1) for b3 we use (x-x0)(x-x1)(x2)\n",
        "print(\"The value of polynomial: \",\"%.3f\"%f)"
      ],
      "execution_count": null,
      "outputs": [
        {
          "name": "stdout",
          "output_type": "stream",
          "text": [
            "Enter the point at which you want to calculate the value of the polynomial: 0.0018251\n"
          ]
        },
        {
          "output_type": "error",
          "ename": "IndexError",
          "evalue": "ignored",
          "traceback": [
            "\u001b[0;31m---------------------------------------------------------------------------\u001b[0m",
            "\u001b[0;31mIndexError\u001b[0m                                Traceback (most recent call last)",
            "\u001b[0;32m<ipython-input-32-eeb81f3ab76b>\u001b[0m in \u001b[0;36m<module>\u001b[0;34m()\u001b[0m\n\u001b[1;32m     10\u001b[0m \u001b[0;34m\u001b[0m\u001b[0m\n\u001b[1;32m     11\u001b[0m         \u001b[0mp\u001b[0m\u001b[0;34m[\u001b[0m\u001b[0mi\u001b[0m\u001b[0;34m,\u001b[0m\u001b[0;36m0\u001b[0m\u001b[0;34m]\u001b[0m\u001b[0;34m=\u001b[0m\u001b[0mx\u001b[0m\u001b[0;34m[\u001b[0m\u001b[0mi\u001b[0m\u001b[0;34m]\u001b[0m\u001b[0;34m\u001b[0m\u001b[0;34m\u001b[0m\u001b[0m\n\u001b[0;32m---> 12\u001b[0;31m         \u001b[0mp\u001b[0m\u001b[0;34m[\u001b[0m\u001b[0mi\u001b[0m\u001b[0;34m,\u001b[0m\u001b[0;36m4\u001b[0m\u001b[0;34m]\u001b[0m\u001b[0;34m=\u001b[0m\u001b[0my\u001b[0m\u001b[0;34m[\u001b[0m\u001b[0mi\u001b[0m\u001b[0;34m]\u001b[0m\u001b[0;34m\u001b[0m\u001b[0;34m\u001b[0m\u001b[0m\n\u001b[0m\u001b[1;32m     13\u001b[0m         \u001b[0mp\u001b[0m\u001b[0;34m[\u001b[0m\u001b[0mi\u001b[0m\u001b[0;34m,\u001b[0m\u001b[0;36m2\u001b[0m\u001b[0;34m]\u001b[0m\u001b[0;34m=\u001b[0m\u001b[0my\u001b[0m\u001b[0;34m[\u001b[0m\u001b[0mi\u001b[0m\u001b[0;34m]\u001b[0m\u001b[0;34m\u001b[0m\u001b[0;34m\u001b[0m\u001b[0m\n\u001b[1;32m     14\u001b[0m         \u001b[0mp\u001b[0m\u001b[0;34m[\u001b[0m\u001b[0mi\u001b[0m\u001b[0;34m,\u001b[0m\u001b[0;36m3\u001b[0m\u001b[0;34m]\u001b[0m\u001b[0;34m=\u001b[0m\u001b[0my\u001b[0m\u001b[0;34m[\u001b[0m\u001b[0mi\u001b[0m\u001b[0;34m]\u001b[0m\u001b[0;34m\u001b[0m\u001b[0;34m\u001b[0m\u001b[0m\n",
            "\u001b[0;31mIndexError\u001b[0m: index 5 is out of bounds for axis 0 with size 5"
          ]
        }
      ]
    },
    {
      "cell_type": "code",
      "metadata": {
        "colab": {
          "base_uri": "https://localhost:8080/",
          "height": 69
        },
        "id": "IoZ1SxOd6bE0",
        "outputId": "fe41be0b-e8aa-4dd9-a2a8-3e3c5e5c1d6c"
      },
      "source": [
        "\n",
        "# Program 3.1 Newton Divided Difference Interpolation Method\n",
        "# Computes coefficients of interpolating polynomial\n",
        "# Input: x and y are vectors containing the x and y coordinates\n",
        "#        of the n data points\n",
        "# Output: coefficients c of interpolating polynomial in nested form\n",
        "# Use with nest.m to evaluate interpolating polynomial\n",
        "\n",
        "from numpy import *\n",
        "\n",
        "def newtdd(x,y):\n",
        "\tn = len(x)\n",
        "\tv = zeros((n,n))\n",
        "\tfor j in range(n):\n",
        "\t\tv[j,0] = y[j]\t\t\t# Fill in y column of Newton triangle\n",
        "\tfor i in range(1,n):\t\t# For column i,\n",
        "\t\tfor j in range(n-i):\t# 1:n+1-i\t\t# fill in column from top to bottom\n",
        "#\t\t\tprint j,i,\" \",j+1,i-1,\" \", j,i-1,\" \",j+i,\" \",j\n",
        "\t\t\tv[j,i] = (v[j+1,i-1]-v[j,i-1])/(x[j+i]-x[j])\n",
        "\tc = v[0,:].copy()\t\t\t# Read along top of triangle for output coefficients\n",
        "\treturn c\n",
        "\n",
        "'''\n",
        "# test_newtdd.py\n",
        "from newtdd import newtdd\n",
        "from nest   import nest\n",
        "from numpy  import linspace\n",
        "from pylab  import plot, show\n",
        "xdata = [0.0,1,2,3,3.4]\n",
        "ydata = [0.0,3,12,6,2]\n",
        "plot(xdata,ydata,'ro')\n",
        "interpolant = newtdd(xdata,ydata)\n",
        "x = linspace(-1,4,100,endpoint=True)\n",
        "y = nest(interpolant,x,xdata)\n",
        "plot(x,y,'b')\n",
        "show()\n",
        "'''"
      ],
      "execution_count": null,
      "outputs": [
        {
          "output_type": "execute_result",
          "data": {
            "application/vnd.google.colaboratory.intrinsic+json": {
              "type": "string"
            },
            "text/plain": [
              "\"\\n# test_newtdd.py\\nfrom newtdd import newtdd\\nfrom nest   import nest\\nfrom numpy  import linspace\\nfrom pylab  import plot, show\\nxdata = [0.0,1,2,3,3.4]\\nydata = [0.0,3,12,6,2]\\nplot(xdata,ydata,'ro')\\ninterpolant = newtdd(xdata,ydata)\\nx = linspace(-1,4,100,endpoint=True)\\ny = nest(interpolant,x,xdata)\\nplot(x,y,'b')\\nshow()\\n\""
            ]
          },
          "metadata": {},
          "execution_count": 33
        }
      ]
    },
    {
      "cell_type": "code",
      "metadata": {
        "colab": {
          "base_uri": "https://localhost:8080/",
          "height": 129
        },
        "id": "k5SiYbku60zN",
        "outputId": "ff2f9000-9d1a-4813-f87b-c6cb5d06628a"
      },
      "source": [
        "from matplotlib.pyplot import *\n",
        "from numpy import *\n",
        "xpt = array([0,2,3,5])\n",
        "ypt = array([1,5,0,8])\n",
        "#Newton’s Divided difference, produces coefficients of\n",
        "#interpolating polynomial\n",
        "def NDD(x,y):\n",
        "n=len(x)\n",
        "#Construct table and load xy pairs in first columns\n",
        "A = zeros((n,n+1))\n",
        "A[:,0]= x[:]\n",
        "A[:,1]= y[:]\n",
        "#Fill in Divided differences\n",
        "for j in range(2,n+1):\n",
        "for i in range(j-1,n):\n",
        "A[i,j] = (A[i,j-1]-A[i-1,j-1]) / (A[i,0]-A[i-j+1,0])\n",
        "#Copy diagonal elements into array for returning\n",
        "p = zeros(n)\n",
        "for k in range(0,n):\n",
        "p[k] = A[k,k+1]\n",
        "return p\n",
        "#Evaluates polynomial at ’t’ given x-values and coefficients\n",
        "def poly(t,x,p):\n",
        "n = len(x)\n",
        "out = p[n-1]\n",
        "for i in range(n-2,-1,-1):\n",
        "out = out*(t-x[i]) + p[i]\n",
        "return out\n",
        "#Calculates correct coefficients and graphs interpolating polynomial\n",
        "a = NDD(xpt,ypt)\n",
        "tval = linspace(min(xpt)-1,max(xpt)+1,100)\n",
        "yval = poly(tval,xpt,a)\n",
        "plot(tval,yval,color=’green’,linestyle=’-’,label=’poly’)\n",
        "#Annotates graph and plots points used for interpolation\n",
        "title(’Interpolation’)\n",
        "xlabel(’x values’)\n",
        "ylabel(’y values’)\n",
        "legend(loc=’best’)\n",
        "plot(xpt,ypt,color=’blue’,marker=’o’,linestyle=’’)"
      ],
      "execution_count": null,
      "outputs": [
        {
          "output_type": "error",
          "ename": "IndentationError",
          "evalue": "ignored",
          "traceback": [
            "\u001b[0;36m  File \u001b[0;32m\"<ipython-input-36-0d7ac483b5d7>\"\u001b[0;36m, line \u001b[0;32m8\u001b[0m\n\u001b[0;31m    n=len(x)\u001b[0m\n\u001b[0m    ^\u001b[0m\n\u001b[0;31mIndentationError\u001b[0m\u001b[0;31m:\u001b[0m expected an indented block\n"
          ]
        }
      ]
    },
    {
      "cell_type": "code",
      "metadata": {
        "id": "EhZFPXCp7X-Y"
      },
      "source": [
        "\"\"\"Methods for polynomials\"\"\"\n",
        "\n",
        "\n",
        "import numpy as np\n",
        "\n",
        "\n",
        "def briot_ruffini(a, root):\n",
        "    \"\"\"\n",
        "    Divides a polynomial by another polynomial in the format (x-root)\n",
        "    P(x) = Q(x) * (x-root) + rest\n",
        "    Parameters:\n",
        "        a: Array containing the coefficients of the input polynomial\n",
        "        root: One of the polynomial roots\n",
        "    Returns:\n",
        "        b: Array containing the coefficients of the output polynomial\n",
        "        rest: Polynomial division Rest\n",
        "    \"\"\"\n",
        "\n",
        "    n = a.size - 1\n",
        "    b = np.zeros(n)\n",
        "\n",
        "    b[0] = a[0]\n",
        "\n",
        "    for i in range(1, n):\n",
        "        b[i] = b[i - 1] * root + a[i]\n",
        "\n",
        "    rest = b[n - 1] * root + a[n]\n",
        "\n",
        "    return [b, rest]\n",
        "\n",
        "\n",
        "def newton_divided_difference(x, y):\n",
        "    \"\"\"\n",
        "    Find the coefficients of Newton's divided difference and\n",
        "    the Newton's polynomial.\n",
        "    Parameters:\n",
        "        x: Array containing x values\n",
        "        y: Array containing y values\n",
        "    Returns:\n",
        "        f: Array containing Newton's divided difference coefficients\n",
        "    \"\"\"\n",
        "\n",
        "    n = x.size\n",
        "    q = np.zeros((n, n - 1))\n",
        "    # Insert 'y' in the first column of the matrix 'q'\n",
        "    q = np.concatenate((y[:, None], q), axis=1)\n",
        "\n",
        "    for i in range(1, n):\n",
        "        for j in range(1, i + 1):\n",
        "            q[i, j] = (q[i, j - 1] - q[i - 1, j - 1]) / (x[i] - x[i - j])\n",
        "\n",
        "    # Copy the diagonal values of the matrix q to the vector f\n",
        "    f = np.zeros(n)\n",
        "    for i in range(0, n):\n",
        "        f[i] = q[i, i]\n",
        "\n",
        "    # Prints the polynomial\n",
        "    print(\"The polynomial is:\")\n",
        "    print(\"p(x)={:+.4f}\".format(f[0]), end=\"\")\n",
        "    for i in range(1, n):\n",
        "        print(\"{:+.4f}\".format(f[i]), end=\"\")\n",
        "        for j in range(1, i + 1):\n",
        "            print(\"(x{:+.4f})\".format(x[j] * -1), end=\"\")\n",
        "    print(\"\")\n",
        "\n",
        "    return [f]"
      ],
      "execution_count": null,
      "outputs": []
    }
  ]
}