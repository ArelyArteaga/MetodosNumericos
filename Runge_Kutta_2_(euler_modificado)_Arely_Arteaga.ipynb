{
  "nbformat": 4,
  "nbformat_minor": 0,
  "metadata": {
    "colab": {
      "provenance": [],
      "authorship_tag": "ABX9TyPqmQ/5zB8XmpPCB8I1xm5U"
    },
    "kernelspec": {
      "name": "python3",
      "display_name": "Python 3"
    },
    "language_info": {
      "name": "python"
    }
  },
  "cells": [
    {
      "cell_type": "code",
      "execution_count": null,
      "metadata": {
        "id": "zf1wP0O9UxW1"
      },
      "outputs": [],
      "source": [
        "#Programa que implementa el metodo de Runge-Kutta de orden 2 (euler modificado)\n",
        "\n",
        "#Ingresar los limites superior e inferior del intervalo [a,b]\n",
        "a = float(input(\"Ingrese el limite inferior (a): \"))\n",
        "b = float(input(\"Ingrese el limite superior (b): \"))\n",
        "\n",
        "#Ingresar la condicion inicial y(a) = r\n",
        "r = float(input(\"Ingrese el valor de la condicion inicial y(a) = \"))\n",
        "\n",
        "#Ingresar el valor de N\n",
        "N = int(input(\"Ingrese el entero N: \"))\n",
        "\n",
        "#Definimos la solucion exacta de la ecuacion diferencial\n",
        "import math\n",
        "def g(t):\n",
        "\treturn pow(t+1,2)-0.5*math.exp(t)\n",
        "\n",
        "#Arreglo inicial del metodo\n",
        "h = (b-a)/N\n",
        "t = a\n",
        "w = r\n",
        "print(\"---------------------------------\")\n",
        "print(\"ti\", \"    y(ti)\" , \"   Euler\", \"   Error \")\n",
        "print(t, format(g(t),'.7f'), format(w,'.7f'), format(abs(w-g(t)),'.7f'))\n",
        "\n",
        "#Definimos la funcion f(t,w) = y'\n",
        "def f(t,y):\n",
        "\treturn y - pow(t,2) + 1\n",
        "\n",
        "#Inicio del metodo\n",
        "for i in range (1,N+1):\n",
        "\tw = w + (h/2)*(f(t,w)+f(t+h, w+h*f(t,w)))\n",
        "\tt = round(a + i*h,2)\n",
        "#Resultados para la tabla\n",
        "\tprint(t, format(g(t),'.7f'), format(w,'.7f'), format(abs(w-g(t)),'.7f'))\n",
        "\n",
        "print(\"---------------------------------\")"
      ]
    }
  ]
}