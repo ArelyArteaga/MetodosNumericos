{
  "nbformat": 4,
  "nbformat_minor": 0,
  "metadata": {
    "colab": {
      "provenance": [],
      "authorship_tag": "ABX9TyO/HqXcQ+1YTIawUoEY3A7f"
    },
    "kernelspec": {
      "name": "python3",
      "display_name": "Python 3"
    },
    "language_info": {
      "name": "python"
    }
  },
  "cells": [
    {
      "cell_type": "code",
      "metadata": {
        "colab": {
          "base_uri": "https://localhost:8080/"
        },
        "id": "FM2LLYBicKsc",
        "outputId": "0a8f96cb-c93d-4dbd-c2a1-4cb756b04718"
      },
      "source": [
        "#definicion de la funcion\n",
        "import math\n",
        "def f(x):\n",
        "    return pow(x,2) -4 * (x) + 4 - (math.log(x))\n",
        "#definicion de metodo\n",
        "def bis(a,b,t,n):\n",
        "#inicializacion de contador\n",
        "    i = 1\n",
        "#asignacion del valor de la funcion en a\n",
        "    FA = f(a)\n",
        "#condicion para las iteraciones\n",
        "    while (i <= n ):\n",
        "#asignacion del valor de la primera aproximacion a la primera iteracion\n",
        "        p = a + ((b - a)/2)\n",
        "#evaluacion de la funcion en el punto\n",
        "        FP = f(p)\n",
        "#condicion a ruptura del ciclo\n",
        "        if (f(p) == 0 or ((b - a) / 2) < t ):\n",
        "\n",
        "            print('el valor aproximado de p es: ',p,)\n",
        "            break\n",
        "#condicion para determinar la valides del intervalo\n",
        "        if (FA * FP > 0):\n",
        "#asignacion del nuevo valor del limite inferior\n",
        "            a = p\n",
        "#asignacion del nuevo valor de la funcion del limite inferior\n",
        "            FA = FP\n",
        "        else:\n",
        "#asignacion del nuevo valor del limite superior\n",
        "            b = p\n",
        "#muestra los valores de cada iteracion\n",
        "        print('el intervalo es [',a,',',b,'] el numero de iteracion',i,' p es ',p,'el valor de f(p) fue ',f(p),' ')\n",
        "#aumento del contador\n",
        "        i = i + 1\n",
        "\n",
        "#lectura de variables\n",
        "bis(float(input(\"ingrese el limite inferior \")),\\\n",
        "   float(input(\"ingrese el limite superior \")),\\\n",
        "        float(input(\"ingrese la tolerancia \")),\\\n",
        "        int(input(\"ingrese el No. Maximo de iteraciones \")))"
      ],
      "execution_count": null,
      "outputs": [
        {
          "output_type": "stream",
          "name": "stdout",
          "text": [
            "ingrese el limite inferior 2\n",
            "ingrese el limite superior 4\n",
            "ingrese la tolerancia 0.00009\n",
            "ingrese el No. Maximo de iteraciones 100\n",
            "el intervalo es [ 3.0 , 4.0 ] el numero de iteracion 1  p es  3.0 el valor de f(p) fue  -0.09861228866810978  \n",
            "el intervalo es [ 3.0 , 3.5 ] el numero de iteracion 2  p es  3.5 el valor de f(p) fue  0.9972370315046319  \n",
            "el intervalo es [ 3.0 , 3.25 ] el numero de iteracion 3  p es  3.25 el valor de f(p) fue  0.38384500365835383  \n",
            "el intervalo es [ 3.0 , 3.125 ] el numero de iteracion 4  p es  3.125 el valor de f(p) fue  0.12619071681163518  \n",
            "el intervalo es [ 3.0 , 3.0625 ] el numero de iteracion 5  p es  3.0625 el valor de f(p) fue  0.009674674129154681  \n",
            "el intervalo es [ 3.03125 , 3.0625 ] el numero de iteracion 6  p es  3.03125 el valor de f(p) fue  -0.04549851320365628  \n",
            "el intervalo es [ 3.046875 , 3.0625 ] el numero de iteracion 7  p es  3.046875 el valor de f(p) fue  -0.018169209579074863  \n",
            "el intervalo es [ 3.0546875 , 3.0625 ] el numero de iteracion 8  p es  3.0546875 el valor de f(p) fue  -0.004311573409498504  \n",
            "el intervalo es [ 3.0546875 , 3.05859375 ] el numero de iteracion 9  p es  3.05859375 el valor de f(p) fue  0.002665476027821967  \n",
            "el intervalo es [ 3.056640625 , 3.05859375 ] el numero de iteracion 10  p es  3.056640625 el valor de f(p) fue  -0.0008270675343551304  \n",
            "el intervalo es [ 3.056640625 , 3.0576171875 ] el numero de iteracion 11  p es  3.0576171875 el valor de f(p) fue  0.0009181995684575117  \n",
            "el intervalo es [ 3.056640625 , 3.05712890625 ] el numero de iteracion 12  p es  3.05712890625 el valor de f(p) fue  4.531484340919434e-05  \n",
            "el intervalo es [ 3.056884765625 , 3.05712890625 ] el numero de iteracion 13  p es  3.056884765625 el valor de f(p) fue  -0.00039093913939280966  \n",
            "el intervalo es [ 3.0570068359375 , 3.05712890625 ] el numero de iteracion 14  p es  3.0570068359375 el valor de f(p) fue  -0.0001728278464081523  \n",
            "el valor aproximado de p es:  3.05706787109375\n"
          ]
        }
      ]
    },
    {
      "cell_type": "code",
      "metadata": {
        "colab": {
          "base_uri": "https://localhost:8080/"
        },
        "id": "fPldpRuUkL1h",
        "outputId": "704d17e2-6eb1-450c-b13d-1448628006b4"
      },
      "source": [
        "#definicion de la funcion\n",
        "import math\n",
        "def f(x):\n",
        "    return pow(x,2) -4 * (x) + 4 - (math.log(x))\n",
        "#definicion de metodo\n",
        "def bis(a,b,t,n):\n",
        "#inicializacion de contador\n",
        "    i = 1\n",
        "#asignacion del valor de la funcion en a\n",
        "    FA = f(a)\n",
        "#condicion para las iteraciones\n",
        "    while (i <= n ):\n",
        "#asignacion del valor de la primera aproximacion a la primera iteracion\n",
        "        p = a + ((b - a)/2)\n",
        "#evaluacion de la funcion en el punto\n",
        "        FP = f(p)\n",
        "#condicion a ruptura del ciclo\n",
        "        if (f(p) == 0 or ((b - a) / 2) < t ):\n",
        "\n",
        "            print('el valor aproximado de p es: ',p,)\n",
        "            break\n",
        "#condicion para determinar la valides del intervalo\n",
        "        if (FA * FP > 0):\n",
        "#asignacion del nuevo valor del limite inferior\n",
        "            a = p\n",
        "#asignacion del nuevo valor de la funcion del limite inferior\n",
        "            FA = FP\n",
        "        else:\n",
        "#asignacion del nuevo valor del limite superior\n",
        "            b = p\n",
        "#muestra los valores de cada iteracion\n",
        "        print('el intervalo es [',a,',',b,'] el numero de iteracion',i,' p es ',p,'el valor de f(p) fue ',f(p),' ')\n",
        "#aumento del contador\n",
        "        i = i + 1\n",
        "\n",
        "#lectura de variables\n",
        "bis(float(input(\"ingrese el limite inferior \")),\\\n",
        "   float(input(\"ingrese el limite superior \")),\\\n",
        "        float(input(\"ingrese la tolerancia \")),\\\n",
        "        int(input(\"ingrese el No. Maximo de iteraciones \")))"
      ],
      "execution_count": null,
      "outputs": [
        {
          "output_type": "stream",
          "name": "stdout",
          "text": [
            "ingrese el limite inferior 1\n",
            "ingrese el limite superior 2\n",
            "ingrese la tolerancia 0.00009\n",
            "ingrese el No. Maximo de iteraciones 100\n",
            "el intervalo es [ 1.0 , 1.5 ] el numero de iteracion 1  p es  1.5 el valor de f(p) fue  -0.15546510810816438  \n",
            "el intervalo es [ 1.25 , 1.5 ] el numero de iteracion 2  p es  1.25 el valor de f(p) fue  0.33935644868579024  \n",
            "el intervalo es [ 1.375 , 1.5 ] el numero de iteracion 3  p es  1.375 el valor de f(p) fue  0.07217126888146541  \n",
            "el intervalo es [ 1.375 , 1.4375 ] el numero de iteracion 4  p es  1.4375 el valor de f(p) fue  -0.046499243689368475  \n",
            "el intervalo es [ 1.40625 , 1.4375 ] el numero de iteracion 5  p es  1.40625 el valor de f(p) fue  0.011612475529406807  \n",
            "el intervalo es [ 1.40625 , 1.421875 ] el numero de iteracion 6  p es  1.421875 el valor de f(p) fue  -0.017747907532178198  \n",
            "el intervalo es [ 1.40625 , 1.4140625 ] el numero de iteracion 7  p es  1.4140625 el valor de f(p) fue  -0.0031440134399585706  \n",
            "el intervalo es [ 1.41015625 , 1.4140625 ] el numero de iteracion 8  p es  1.41015625 el valor de f(p) fue  0.004215135560744043  \n",
            "el intervalo es [ 1.412109375 , 1.4140625 ] el numero de iteracion 9  p es  1.412109375 el valor de f(p) fue  0.0005307898436337499  \n",
            "el intervalo es [ 1.412109375 , 1.4130859375 ] el numero de iteracion 10  p es  1.4130859375 el valor de f(p) fue  -0.0013078042717768468  \n",
            "el intervalo es [ 1.412109375 , 1.41259765625 ] el numero de iteracion 11  p es  1.41259765625 el valor de f(p) fue  -0.0003888053737435282  \n",
            "el intervalo es [ 1.412353515625 , 1.41259765625 ] el numero de iteracion 12  p es  1.412353515625 el valor de f(p) fue  7.091768986389191e-05  \n",
            "el intervalo es [ 1.412353515625 , 1.4124755859375 ] el numero de iteracion 13  p es  1.4124755859375 el valor de f(p) fue  -0.0001589624775645282  \n",
            "el valor aproximado de p es:  1.41241455078125\n"
          ]
        }
      ]
    },
    {
      "cell_type": "code",
      "metadata": {
        "colab": {
          "base_uri": "https://localhost:8080/"
        },
        "id": "LLvCWx5SdiH_",
        "outputId": "9c62efa9-19c6-4567-d0fe-5b0d33aad50b"
      },
      "source": [
        "#definicion de la funcion\n",
        "import math\n",
        "def f(x):\n",
        "    return x + 1 - 2 * (math.sin(x*math.pi))\n",
        "#definicion de metodo\n",
        "def bis(a,b,t,n):\n",
        "#inicializacion de contador\n",
        "    i = 1\n",
        "#asignacion del valor de la funcion en a\n",
        "    FA = f(a)\n",
        "#condicion para las iteraciones\n",
        "    while (i <= n ):\n",
        "#asignacion del valor de la primera aproximacion a la primera iteracion\n",
        "        p = a + ((b - a)/2)\n",
        "#evaluacion de la funcion en el punto\n",
        "        FP = f(p)\n",
        "#condicion a ruptura del ciclo\n",
        "        if (f(p) == 0 or ((b - a) / 2) < t ):\n",
        "\n",
        "            print('el valor aproximado de p es: ',p,)\n",
        "            break\n",
        "#condicion para determinar la valides del intervalo\n",
        "        if (FA * FP > 0):\n",
        "#asignacion del nuevo valor del limite inferior\n",
        "            a = p\n",
        "#asignacion del nuevo valor de la funcion del limite inferior\n",
        "            FA = FP\n",
        "        else:\n",
        "#asignacion del nuevo valor del limite superior\n",
        "            b = p\n",
        "#muestra los valores de cada iteracion\n",
        "        print('el intervalo es [',a,',',b,'] el numero de iteracion',i,' p es ',p,'el valor de f(p) fue ',f(p),' ')\n",
        "#aumento del contador\n",
        "        i = i + 1\n",
        "\n",
        "#lectura de variables\n",
        "bis(float(input(\"ingrese el limite inferior \")),\\\n",
        "   float(input(\"ingrese el limite superior \")),\\\n",
        "        float(input(\"ingrese la tolerancia \")),\\\n",
        "        int(input(\"ingrese el No. Maximo de iteraciones \")))"
      ],
      "execution_count": null,
      "outputs": [
        {
          "output_type": "stream",
          "name": "stdout",
          "text": [
            "ingrese el limite inferior 0\n",
            "ingrese el limite superior 0.5\n",
            "ingrese la tolerancia 0.00009\n",
            "ingrese el No. Maximo de iteraciones 100\n",
            "el intervalo es [ 0.0 , 0.25 ] el numero de iteracion 1  p es  0.25 el valor de f(p) fue  -0.16421356237309492  \n",
            "el intervalo es [ 0.125 , 0.25 ] el numero de iteracion 2  p es  0.125 el valor de f(p) fue  0.35963313526982044  \n",
            "el intervalo es [ 0.1875 , 0.25 ] el numero de iteracion 3  p es  0.1875 el valor de f(p) fue  0.07635953396079564  \n",
            "el intervalo es [ 0.1875 , 0.21875 ] el numero de iteracion 4  p es  0.21875 el valor de f(p) fue  -0.050036568327290976  \n",
            "el intervalo es [ 0.203125 , 0.21875 ] el numero de iteracion 5  p es  0.203125 el valor de f(p) fue  0.011726391015133286  \n",
            "el intervalo es [ 0.203125 , 0.2109375 ] el numero de iteracion 6  p es  0.2109375 el valor de f(p) fue  -0.01952568116125364  \n",
            "el intervalo es [ 0.203125 , 0.20703125 ] el numero de iteracion 7  p es  0.20703125 el valor de f(p) fue  -0.00399083280865109  \n",
            "el intervalo es [ 0.205078125 , 0.20703125 ] el numero de iteracion 8  p es  0.205078125 el valor de f(p) fue  0.003845166232262054  \n",
            "el intervalo es [ 0.205078125 , 0.2060546875 ] el numero de iteracion 9  p es  0.2060546875 el valor de f(p) fue  -7.850958069632874e-05  \n",
            "el intervalo es [ 0.20556640625 , 0.2060546875 ] el numero de iteracion 10  p es  0.20556640625 el valor de f(p) fue  0.0018819121328399468  \n",
            "el intervalo es [ 0.205810546875 , 0.2060546875 ] el numero de iteracion 11  p es  0.205810546875 el valor de f(p) fue  0.0009013468675524994  \n",
            "el intervalo es [ 0.2059326171875 , 0.2060546875 ] el numero de iteracion 12  p es  0.2059326171875 el valor de f(p) fue  0.0004113299962855699  \n",
            "el valor aproximado de p es:  0.20599365234375\n"
          ]
        }
      ]
    },
    {
      "cell_type": "code",
      "metadata": {
        "colab": {
          "base_uri": "https://localhost:8080/"
        },
        "id": "1VRp3EDVdkND",
        "outputId": "c6ca26ba-e536-4398-ef8b-40f55eb9a5b9"
      },
      "source": [
        "#definicion de la funcion\n",
        "import math\n",
        "def f(x):\n",
        "    return x + 1 - 2 * (math.sin(x*math.pi))\n",
        "#definicion de metodo\n",
        "def bis(a,b,t,n):\n",
        "#inicializacion de contador\n",
        "    i = 1\n",
        "#asignacion del valor de la funcion en a\n",
        "    FA = f(a)\n",
        "#condicion para las iteraciones\n",
        "    while (i <= n ):\n",
        "#asignacion del valor de la primera aproximacion a la primera iteracion\n",
        "        p = a + ((b - a)/2)\n",
        "#evaluacion de la funcion en el punto\n",
        "        FP = f(p)\n",
        "#condicion a ruptura del ciclo\n",
        "        if (f(p) == 0 or ((b - a) / 2) < t ):\n",
        "\n",
        "            print('el valor aproximado de p es: ',p,)\n",
        "            break\n",
        "#condicion para determinar la valides del intervalo\n",
        "        if (FA * FP > 0):\n",
        "#asignacion del nuevo valor del limite inferior\n",
        "            a = p\n",
        "#asignacion del nuevo valor de la funcion del limite inferior\n",
        "            FA = FP\n",
        "        else:\n",
        "#asignacion del nuevo valor del limite superior\n",
        "            b = p\n",
        "#muestra los valores de cada iteracion\n",
        "        print('el intervalo es [',a,',',b,'] el numero de iteracion',i,' p es ',p,'el valor de f(p) fue ',f(p),' ')\n",
        "#aumento del contador\n",
        "        i = i + 1\n",
        "\n",
        "#lectura de variables\n",
        "bis(float(input(\"ingrese el limite inferior \")),\\\n",
        "   float(input(\"ingrese el limite superior \")),\\\n",
        "        float(input(\"ingrese la tolerancia \")),\\\n",
        "        int(input(\"ingrese el No. Maximo de iteraciones \")))"
      ],
      "execution_count": null,
      "outputs": [
        {
          "output_type": "stream",
          "name": "stdout",
          "text": [
            "ingrese el limite inferior 0.5\n",
            "ingrese el limite superior 1\n",
            "ingrese la tolerancia 0.00009\n",
            "ingrese el No. Maximo de iteraciones 100\n",
            "el intervalo es [ 0.5 , 0.75 ] el numero de iteracion 1  p es  0.75 el valor de f(p) fue  0.33578643762690485  \n",
            "el intervalo es [ 0.625 , 0.75 ] el numero de iteracion 2  p es  0.625 el valor de f(p) fue  -0.22275906502257348  \n",
            "el intervalo es [ 0.625 , 0.6875 ] el numero de iteracion 3  p es  0.6875 el valor de f(p) fue  0.024560775394909085  \n",
            "el intervalo es [ 0.65625 , 0.6875 ] el numero de iteracion 4  p es  0.65625 el valor de f(p) fue  -0.1075925286967101  \n",
            "el intervalo es [ 0.671875 , 0.6875 ] el numero de iteracion 5  p es  0.671875 el valor de f(p) fue  -0.043582220000544236  \n",
            "el intervalo es [ 0.6796875 , 0.6875 ] el numero de iteracion 6  p es  0.6796875 el valor de f(p) fue  -0.010019630499414456  \n",
            "el intervalo es [ 0.6796875 , 0.68359375 ] el numero de iteracion 7  p es  0.68359375 el valor de f(p) fue  0.0071443388903236205  \n",
            "el intervalo es [ 0.681640625 , 0.68359375 ] el numero de iteracion 8  p es  0.681640625 el valor de f(p) fue  -0.0014693298737968874  \n",
            "el intervalo es [ 0.681640625 , 0.6826171875 ] el numero de iteracion 9  p es  0.6826171875 el valor de f(p) fue  0.0028295991080007354  \n",
            "el intervalo es [ 0.681640625 , 0.68212890625 ] el numero de iteracion 10  p es  0.68212890625 el valor de f(p) fue  0.0006781563090836329  \n",
            "el intervalo es [ 0.681884765625 , 0.68212890625 ] el numero de iteracion 11  p es  0.681884765625 el valor de f(p) fue  -0.0003960816035961656  \n",
            "el intervalo es [ 0.681884765625 , 0.6820068359375 ] el numero de iteracion 12  p es  0.6820068359375 el valor de f(p) fue  0.0001409136779404463  \n",
            "el valor aproximado de p es:  0.68194580078125\n"
          ]
        }
      ]
    },
    {
      "cell_type": "code",
      "metadata": {
        "colab": {
          "base_uri": "https://localhost:8080/",
          "height": 588
        },
        "id": "YKFTcetEkqVW",
        "outputId": "db97ac94-7921-4558-8aed-10d92a5b8d93"
      },
      "source": [
        "#Método de iteración de punto fijo\n",
        "\n",
        "#Ingresar la aproximación inicial PO, tolerancia TOL y número máximo de iteraciones N\n",
        "\n",
        "print(\"Inserte aproximación inicial\")\n",
        "PO=float(input())\n",
        "\n",
        "print(\"Inserte la tolerancia\")\n",
        "TOL=float(input())\n",
        "\n",
        "print(\"Inserte el número máximo de iteraciones\")\n",
        "N=int(input())\n",
        "\n",
        "print(\"Después de 0 iteraciones, el punto es\",PO)\n",
        "\n",
        "#Definimos la función\n",
        "import math\n",
        "def g(x):\n",
        "\treturn x - pow(x,3) - 4 * pow(x,2) + 10\n",
        "#Inicio del método\n",
        "i=0\n",
        "\n",
        "while(i<=N):\n",
        "\tP=g(PO)\n",
        "#Evaluación de la iteracion\n",
        "\tif abs(P-PO)<TOL:\n",
        "\t\tbreak\n",
        "\n",
        "\ti=i+1\n",
        "\tPO=P\n",
        "#Resultado\n",
        "\tif i<=N:\n",
        "\t\tprint(\"Después de\",i, \"iteraciones, el punto es\",P)\n",
        "\telse:\n",
        "\t\tprint(\"El método falló después de\",N,\"iteraciones\")"
      ],
      "execution_count": null,
      "outputs": [
        {
          "output_type": "stream",
          "name": "stdout",
          "text": [
            "Inserte aproximación inicial\n",
            "1.5\n",
            "Inserte la tolerancia\n",
            "0.00009\n",
            "Inserte el número máximo de iteraciones\n",
            "100\n",
            "Después de 0 iteraciones, el punto es 1.5\n",
            "Después de 1 iteraciones, el punto es -0.875\n",
            "Después de 2 iteraciones, el punto es 6.732421875\n",
            "Después de 3 iteraciones, el punto es -469.72001200169325\n",
            "Después de 4 iteraciones, el punto es 102754555.18738511\n",
            "Después de 5 iteraciones, el punto es -1.0849338705317464e+24\n",
            "Después de 6 iteraciones, el punto es 1.277055591444378e+72\n",
            "Después de 7 iteraciones, el punto es -2.082712908581025e+216\n"
          ]
        },
        {
          "output_type": "error",
          "ename": "OverflowError",
          "evalue": "ignored",
          "traceback": [
            "\u001b[0;31m---------------------------------------------------------------------------\u001b[0m",
            "\u001b[0;31mOverflowError\u001b[0m                             Traceback (most recent call last)",
            "\u001b[0;32m<ipython-input-27-86f2bbcb8a31>\u001b[0m in \u001b[0;36m<module>\u001b[0;34m()\u001b[0m\n\u001b[1;32m     22\u001b[0m \u001b[0;34m\u001b[0m\u001b[0m\n\u001b[1;32m     23\u001b[0m \u001b[0;32mwhile\u001b[0m\u001b[0;34m(\u001b[0m\u001b[0mi\u001b[0m\u001b[0;34m<=\u001b[0m\u001b[0mN\u001b[0m\u001b[0;34m)\u001b[0m\u001b[0;34m:\u001b[0m\u001b[0;34m\u001b[0m\u001b[0;34m\u001b[0m\u001b[0m\n\u001b[0;32m---> 24\u001b[0;31m         \u001b[0mP\u001b[0m\u001b[0;34m=\u001b[0m\u001b[0mg\u001b[0m\u001b[0;34m(\u001b[0m\u001b[0mPO\u001b[0m\u001b[0;34m)\u001b[0m\u001b[0;34m\u001b[0m\u001b[0;34m\u001b[0m\u001b[0m\n\u001b[0m\u001b[1;32m     25\u001b[0m \u001b[0;31m#Evaluación de la iteracion\u001b[0m\u001b[0;34m\u001b[0m\u001b[0;34m\u001b[0m\u001b[0;34m\u001b[0m\u001b[0m\n\u001b[1;32m     26\u001b[0m         \u001b[0;32mif\u001b[0m \u001b[0mabs\u001b[0m\u001b[0;34m(\u001b[0m\u001b[0mP\u001b[0m\u001b[0;34m-\u001b[0m\u001b[0mPO\u001b[0m\u001b[0;34m)\u001b[0m\u001b[0;34m<\u001b[0m\u001b[0mTOL\u001b[0m\u001b[0;34m:\u001b[0m\u001b[0;34m\u001b[0m\u001b[0;34m\u001b[0m\u001b[0m\n",
            "\u001b[0;32m<ipython-input-27-86f2bbcb8a31>\u001b[0m in \u001b[0;36mg\u001b[0;34m(x)\u001b[0m\n\u001b[1;32m     17\u001b[0m \u001b[0;32mimport\u001b[0m \u001b[0mmath\u001b[0m\u001b[0;34m\u001b[0m\u001b[0;34m\u001b[0m\u001b[0m\n\u001b[1;32m     18\u001b[0m \u001b[0;32mdef\u001b[0m \u001b[0mg\u001b[0m\u001b[0;34m(\u001b[0m\u001b[0mx\u001b[0m\u001b[0;34m)\u001b[0m\u001b[0;34m:\u001b[0m\u001b[0;34m\u001b[0m\u001b[0;34m\u001b[0m\u001b[0m\n\u001b[0;32m---> 19\u001b[0;31m         \u001b[0;32mreturn\u001b[0m \u001b[0mx\u001b[0m \u001b[0;34m-\u001b[0m \u001b[0mpow\u001b[0m\u001b[0;34m(\u001b[0m\u001b[0mx\u001b[0m\u001b[0;34m,\u001b[0m\u001b[0;36m3\u001b[0m\u001b[0;34m)\u001b[0m \u001b[0;34m-\u001b[0m \u001b[0;36m4\u001b[0m \u001b[0;34m*\u001b[0m \u001b[0mpow\u001b[0m\u001b[0;34m(\u001b[0m\u001b[0mx\u001b[0m\u001b[0;34m,\u001b[0m\u001b[0;36m2\u001b[0m\u001b[0;34m)\u001b[0m \u001b[0;34m+\u001b[0m \u001b[0;36m10\u001b[0m\u001b[0;34m\u001b[0m\u001b[0;34m\u001b[0m\u001b[0m\n\u001b[0m\u001b[1;32m     20\u001b[0m \u001b[0;31m#Inicio del método\u001b[0m\u001b[0;34m\u001b[0m\u001b[0;34m\u001b[0m\u001b[0;34m\u001b[0m\u001b[0m\n\u001b[1;32m     21\u001b[0m \u001b[0mi\u001b[0m\u001b[0;34m=\u001b[0m\u001b[0;36m0\u001b[0m\u001b[0;34m\u001b[0m\u001b[0;34m\u001b[0m\u001b[0m\n",
            "\u001b[0;31mOverflowError\u001b[0m: (34, 'Numerical result out of range')"
          ]
        }
      ]
    },
    {
      "cell_type": "code",
      "metadata": {
        "colab": {
          "base_uri": "https://localhost:8080/",
          "height": 554
        },
        "id": "ryZcZa0pplq9",
        "outputId": "5ac6c7e3-0282-4ea9-969d-5bc6ee652d24"
      },
      "source": [
        "#Método de iteración de punto fijo\n",
        "\n",
        "#Ingresar la aproximación inicial PO, tolerancia TOL y número máximo de iteraciones N\n",
        "\n",
        "print(\"Inserte aproximación inicial\")\n",
        "PO=float(input())\n",
        "\n",
        "print(\"Inserte la tolerancia\")\n",
        "TOL=float(input())\n",
        "\n",
        "print(\"Inserte el número máximo de iteraciones\")\n",
        "N=int(input())\n",
        "\n",
        "print(\"Después de 0 iteraciones, el punto es\",PO)\n",
        "\n",
        "#Definimos la función\n",
        "import math\n",
        "def g(x):\n",
        "\treturn pow (x,4) - 3 * pow (x,2) - 3\n",
        "#Inicio del método\n",
        "i=0\n",
        "\n",
        "while(i<=N):\n",
        "\tP=g(PO)\n",
        "#Evaluación de la iteracion\n",
        "\tif abs(P-PO)<TOL:\n",
        "\t\tbreak\n",
        "\n",
        "\ti=i+1\n",
        "\tPO=P\n",
        "#Resultado\n",
        "\tif i<=N:\n",
        "\t\tprint(\"Después de\",i, \"iteraciones, el punto es\",P)\n",
        "\telse:\n",
        "\t\tprint(\"El método falló después de\",N,\"iteraciones\")"
      ],
      "execution_count": null,
      "outputs": [
        {
          "output_type": "stream",
          "name": "stdout",
          "text": [
            "Inserte aproximación inicial\n",
            "1\n",
            "Inserte la tolerancia\n",
            "0.001\n",
            "Inserte el número máximo de iteraciones\n",
            "5\n",
            "Después de 0 iteraciones, el punto es 1.0\n",
            "Después de 1 iteraciones, el punto es -5.0\n",
            "Después de 2 iteraciones, el punto es 547.0\n",
            "Después de 3 iteraciones, el punto es 89525128051.0\n",
            "Después de 4 iteraciones, el punto es 6.423619436056941e+43\n",
            "Después de 5 iteraciones, el punto es 1.7026258154572886e+175\n"
          ]
        },
        {
          "output_type": "error",
          "ename": "OverflowError",
          "evalue": "ignored",
          "traceback": [
            "\u001b[0;31m---------------------------------------------------------------------------\u001b[0m",
            "\u001b[0;31mOverflowError\u001b[0m                             Traceback (most recent call last)",
            "\u001b[0;32m<ipython-input-31-bc28410182d3>\u001b[0m in \u001b[0;36m<module>\u001b[0;34m()\u001b[0m\n\u001b[1;32m     22\u001b[0m \u001b[0;34m\u001b[0m\u001b[0m\n\u001b[1;32m     23\u001b[0m \u001b[0;32mwhile\u001b[0m\u001b[0;34m(\u001b[0m\u001b[0mi\u001b[0m\u001b[0;34m<=\u001b[0m\u001b[0mN\u001b[0m\u001b[0;34m)\u001b[0m\u001b[0;34m:\u001b[0m\u001b[0;34m\u001b[0m\u001b[0;34m\u001b[0m\u001b[0m\n\u001b[0;32m---> 24\u001b[0;31m         \u001b[0mP\u001b[0m\u001b[0;34m=\u001b[0m\u001b[0mg\u001b[0m\u001b[0;34m(\u001b[0m\u001b[0mPO\u001b[0m\u001b[0;34m)\u001b[0m\u001b[0;34m\u001b[0m\u001b[0;34m\u001b[0m\u001b[0m\n\u001b[0m\u001b[1;32m     25\u001b[0m \u001b[0;31m#Evaluación de la iteracion\u001b[0m\u001b[0;34m\u001b[0m\u001b[0;34m\u001b[0m\u001b[0;34m\u001b[0m\u001b[0m\n\u001b[1;32m     26\u001b[0m         \u001b[0;32mif\u001b[0m \u001b[0mabs\u001b[0m\u001b[0;34m(\u001b[0m\u001b[0mP\u001b[0m\u001b[0;34m-\u001b[0m\u001b[0mPO\u001b[0m\u001b[0;34m)\u001b[0m\u001b[0;34m<\u001b[0m\u001b[0mTOL\u001b[0m\u001b[0;34m:\u001b[0m\u001b[0;34m\u001b[0m\u001b[0;34m\u001b[0m\u001b[0m\n",
            "\u001b[0;32m<ipython-input-31-bc28410182d3>\u001b[0m in \u001b[0;36mg\u001b[0;34m(x)\u001b[0m\n\u001b[1;32m     17\u001b[0m \u001b[0;32mimport\u001b[0m \u001b[0mmath\u001b[0m\u001b[0;34m\u001b[0m\u001b[0;34m\u001b[0m\u001b[0m\n\u001b[1;32m     18\u001b[0m \u001b[0;32mdef\u001b[0m \u001b[0mg\u001b[0m\u001b[0;34m(\u001b[0m\u001b[0mx\u001b[0m\u001b[0;34m)\u001b[0m\u001b[0;34m:\u001b[0m\u001b[0;34m\u001b[0m\u001b[0;34m\u001b[0m\u001b[0m\n\u001b[0;32m---> 19\u001b[0;31m         \u001b[0;32mreturn\u001b[0m \u001b[0mpow\u001b[0m \u001b[0;34m(\u001b[0m\u001b[0mx\u001b[0m\u001b[0;34m,\u001b[0m\u001b[0;36m4\u001b[0m\u001b[0;34m)\u001b[0m \u001b[0;34m-\u001b[0m \u001b[0;36m3\u001b[0m \u001b[0;34m*\u001b[0m \u001b[0mpow\u001b[0m \u001b[0;34m(\u001b[0m\u001b[0mx\u001b[0m\u001b[0;34m,\u001b[0m\u001b[0;36m2\u001b[0m\u001b[0;34m)\u001b[0m \u001b[0;34m-\u001b[0m \u001b[0;36m3\u001b[0m\u001b[0;34m\u001b[0m\u001b[0;34m\u001b[0m\u001b[0m\n\u001b[0m\u001b[1;32m     20\u001b[0m \u001b[0;31m#Inicio del método\u001b[0m\u001b[0;34m\u001b[0m\u001b[0;34m\u001b[0m\u001b[0;34m\u001b[0m\u001b[0m\n\u001b[1;32m     21\u001b[0m \u001b[0mi\u001b[0m\u001b[0;34m=\u001b[0m\u001b[0;36m0\u001b[0m\u001b[0;34m\u001b[0m\u001b[0;34m\u001b[0m\u001b[0m\n",
            "\u001b[0;31mOverflowError\u001b[0m: (34, 'Numerical result out of range')"
          ]
        }
      ]
    },
    {
      "cell_type": "code",
      "metadata": {
        "colab": {
          "base_uri": "https://localhost:8080/"
        },
        "id": "35c3rblsp7oE",
        "outputId": "2f49f570-e39a-449c-d397-94d533dd407a"
      },
      "source": [
        "#Método de iteración de punto fijo\n",
        "\n",
        "#Ingresar la aproximación inicial PO, tolerancia TOL y número máximo de iteraciones N\n",
        "\n",
        "print(\"Inserte aproximación inicial\")\n",
        "PO=float(input())\n",
        "\n",
        "print(\"Inserte la tolerancia\")\n",
        "TOL=float(input())\n",
        "\n",
        "print(\"Inserte el número máximo de iteraciones\")\n",
        "N=int(input())\n",
        "\n",
        "print(\"Después de 0 iteraciones, el punto es\",PO)\n",
        "\n",
        "#Definimos la función\n",
        "import math\n",
        "def g(x):\n",
        "\treturn pow(x,3) - x - 1\n",
        "#Inicio del método\n",
        "i=0\n",
        "\n",
        "while(i<=N):\n",
        "\tP=g(PO)\n",
        "#Evaluación de la iteracion\n",
        "\tif abs(P-PO)<TOL:\n",
        "\t\tbreak\n",
        "\n",
        "\ti=i+1\n",
        "\tPO=P\n",
        "#Resultado\n",
        "\tif i<=N:\n",
        "\t\tprint(\"Después de\",i, \"iteraciones, el punto es\",P)\n",
        "\telse:\n",
        "\t\tprint(\"El método falló después de\",N,\"iteraciones\")"
      ],
      "execution_count": null,
      "outputs": [
        {
          "output_type": "stream",
          "name": "stdout",
          "text": [
            "Inserte aproximación inicial\n",
            "1\n",
            "Inserte la tolerancia\n",
            "0.001\n",
            "Inserte el número máximo de iteraciones\n",
            "5\n",
            "Después de 0 iteraciones, el punto es 1.0\n",
            "Después de 1 iteraciones, el punto es -1.0\n"
          ]
        }
      ]
    }
  ]
}