{
  "nbformat": 4,
  "nbformat_minor": 0,
  "metadata": {
    "colab": {
      "provenance": [],
      "authorship_tag": "ABX9TyNHJNcl/ou5w75WWNuMxoRl"
    },
    "kernelspec": {
      "name": "python3",
      "display_name": "Python 3"
    },
    "language_info": {
      "name": "python"
    }
  },
  "cells": [
    {
      "cell_type": "markdown",
      "metadata": {
        "id": "zYcMjESZtot1"
      },
      "source": [
        "Runge-Kutta de orden 2 (euler modificado)"
      ]
    },
    {
      "cell_type": "code",
      "metadata": {
        "id": "ReS0OVYQsMS5",
        "colab": {
          "base_uri": "https://localhost:8080/"
        },
        "outputId": "060c8492-e8f8-44bb-d801-63afd2bb6722"
      },
      "source": [
        "#MÉTODOS NUMERICOS\n",
        "#ARELY ARTEAGA\n",
        "#ACTIVIDAD 3- (B) EULER MODIFICADO\n",
        "#Programa que implementa el metodo de Runge-Kutta de orden 2 (euler modificado)\n",
        "\n",
        "#Ingresar los limites superior e inferior del intervalo [a,b]\n",
        "a = float(input(\"Ingrese el limite inferior (a): \"))\n",
        "b = float(input(\"Ingrese el limite superior (b): \"))\n",
        "\n",
        "#Ingresar la condicion inicial y(a) = r\n",
        "r = float(input(\"Ingrese el valor de la condicion inicial y(a) = \"))\n",
        "\n",
        "#Ingresar el valor de N\n",
        "N = int(input(\"Ingrese el entero N: \"))\n",
        "\n",
        "#Definimos la solucion exacta de la ecuacion diferencial\n",
        "import math\n",
        "def g(t):\n",
        "\treturn pow(t+1,2)-0.5*math.exp(t)\n",
        "\n",
        "#Arreglo inicial del metodo\n",
        "h = (b-a)/N\n",
        "t = a\n",
        "w = r\n",
        "print(\"---------------------------------\")\n",
        "print(\"ti\", \"    y(ti)\" , \"   Euler\", \"   Error \")\n",
        "print(t, format(g(t),'.7f'), format(w,'.7f'), format(abs(w-g(t)),'.7f'))\n",
        "\n",
        "#Definimos la funcion f(t,w) = y'\n",
        "def f(t,y):\n",
        "\treturn y - pow(t,2) + 1\n",
        "\n",
        "#Inicio del metodo\n",
        "for i in range (1,N+1):\n",
        "\tw = w + (h/2)*(f(t,w)+f(t+h, w+h*f(t,w)))\n",
        "\tt = round(a + i*h,2)\n",
        "#Resultados para la tabla\n",
        "\tprint(t, format(g(t),'.7f'), format(w,'.7f'), format(abs(w-g(t)),'.7f'))\n",
        "\n",
        "print(\"---------------------------------\")\n"
      ],
      "execution_count": null,
      "outputs": [
        {
          "output_type": "stream",
          "name": "stdout",
          "text": [
            "Ingrese el limite inferior (a): 1\n",
            "Ingrese el limite superior (b): 3\n",
            "Ingrese el valor de la condicion inicial y(a) = 3\n",
            "Ingrese el entero N: 10\n",
            "---------------------------------\n",
            "ti     y(ti)    Euler    Error \n",
            "1.0 2.6408591 3.0000000 0.3591409\n",
            "1.2 3.1799415 3.6160000 0.4360585\n",
            "1.4 3.7324000 4.2627200 0.5303200\n",
            "1.6 4.2834838 4.9293184 0.6458346\n",
            "1.8 4.8151763 5.6025684 0.7873922\n",
            "2.0 5.3054720 6.2663335 0.9608616\n",
            "2.2 5.7274933 6.9009269 1.1734336\n",
            "2.4 6.0484118 7.4823308 1.4339190\n",
            "2.6 6.2281310 7.9812436 1.7531126\n",
            "2.8 6.2176766 8.3619171 2.1442405\n",
            "3.0 5.9572315 8.5807389 2.6235074\n",
            "---------------------------------\n"
          ]
        }
      ]
    },
    {
      "cell_type": "markdown",
      "metadata": {
        "id": "QXN4e01vtrxP"
      },
      "source": [
        "Runge-Kutta de orden 2 (punto medio)"
      ]
    },
    {
      "cell_type": "code",
      "metadata": {
        "id": "Nl_WB2hGtsD8",
        "colab": {
          "base_uri": "https://localhost:8080/"
        },
        "outputId": "1a73183f-a58c-4a0f-a016-e4001d2fae7e"
      },
      "source": [
        "#TAREA 8- MÉTODOS NUMERICOS\n",
        "#ARELY BETHZABE ARTEAGA LARA\n",
        "#ACTIVIDAD 3- (A) PUNTO MEDIO\n",
        "#Programa que implementa el metodo de Runge-Kutta de orden 2 (punto medio)\n",
        "\n",
        "#Ingresar los limites superior e inferior del intervalo [a,b]\n",
        "a = float(input(\"Ingrese el limite inferior (a): \"))\n",
        "b = float(input(\"Ingrese el limite superior (b): \"))\n",
        "\n",
        "#Ingresar la condicion inicial y(a) = r\n",
        "r = float(input(\"Ingrese el valor de la condicion inicial y(a) = \"))\n",
        "\n",
        "#Ingresar el valor de N\n",
        "N = int(input(\"Ingrese el entero N: \"))\n",
        "\n",
        "#Definimos la solucion exacta de la ecuacion diferencial\n",
        "import math\n",
        "def g(t):\n",
        "\treturn pow(t+1,2)-0.5*math.exp(t)\n",
        "\n",
        "#Arreglo inicial del metodo\n",
        "h = (b-a)/N\n",
        "t = a\n",
        "w = r\n",
        "print(\"---------------------------------\")\n",
        "print(\"ti\", \"    y(ti)\" , \" Punto Medio\", \"  Error \")\n",
        "print(t, format(g(t),'.7f'), format(w,'.7f'), format(abs(w-g(t)),'.7f'))\n",
        "\n",
        "#Definimos la funcion f(t,w) = y'\n",
        "def f(t,y):\n",
        "\treturn y - pow(t,2) + 1\n",
        "\n",
        "#Inicio del metodo\n",
        "for i in range (1,N+1):\n",
        "\tw = w + h*f(t + h/2, w + (h/2)*f(t,w))\n",
        "\tt = round(a + i*h,2)\n",
        "#Resultados para la tabla\n",
        "\tprint(t, format(g(t),'.7f'), format(w,'.7f'), format(abs(w-g(t)),'.7f'))\n",
        "\n",
        "print(\"---------------------------------\")"
      ],
      "execution_count": null,
      "outputs": [
        {
          "output_type": "stream",
          "name": "stdout",
          "text": [
            "Ingrese el limite inferior (a): 1\n",
            "Ingrese el limite superior (b): 3\n",
            "Ingrese el valor de la condicion inicial y(a) = 3\n",
            "Ingrese el entero N: 10\n",
            "---------------------------------\n",
            "ti     y(ti)  Punto Medio   Error \n",
            "1.0 2.6408591 3.0000000 0.3591409\n",
            "1.2 3.1799415 3.6180000 0.4380585\n",
            "1.4 3.7324000 4.2671600 0.5347600\n",
            "1.6 4.2834838 4.9367352 0.6532514\n",
            "1.8 4.8151763 5.6136169 0.7984407\n",
            "2.0 5.3054720 6.2818127 0.9763407\n",
            "2.2 5.7274933 6.9218115 1.1943182\n",
            "2.4 6.0484118 7.5098100 1.4613982\n",
            "2.6 6.2281310 8.0167682 1.7886372\n",
            "2.8 6.2176766 8.4072572 2.1895806\n",
            "3.0 5.9572315 8.6380538 2.6808222\n",
            "---------------------------------\n"
          ]
        }
      ]
    },
    {
      "cell_type": "markdown",
      "metadata": {
        "id": "GQY_jKKUqxgt"
      },
      "source": [
        "METODO DE HEUN"
      ]
    },
    {
      "cell_type": "code",
      "metadata": {
        "colab": {
          "base_uri": "https://localhost:8080/"
        },
        "id": "DURmOMaZT9kR",
        "outputId": "b585deaa-7eae-4d9e-9eb9-c5fa2a57c82a"
      },
      "source": [
        "#Programa del Metodo de Heun\n",
        "\n",
        "print('.......................................................................')\n",
        "print('* Metodo de Heun*')\n",
        "print('.......................................................................')\n",
        "\n",
        "#Limites superior e inferior del intervalo [a,b]\n",
        "a = float(input(\"Ingresar el limite inferior: a = \"))\n",
        "b = float(input(\"Ingresar el limite superior: b = \"))\n",
        "\n",
        "#Ingresar la condicion inicial y(a) = r\n",
        "r = float(input(\"Ingresar el valor r de la condicion inicial: y(a) = \"))\n",
        "\n",
        "#Ingresar el valor de N\n",
        "N = int(input(\"Ingresar el entero: N = \"))\n",
        "\n",
        "#Definimos la funcion y' = f(t,y)\n",
        "import math\n",
        "def f(t,y):\n",
        "\treturn y - pow(t,2) + 1\n",
        "\n",
        "#Definimos la solucion exacta de la ecuacion diferencial\n",
        "import math\n",
        "def g(t):\n",
        "\treturn pow(t+1,2)-0.5*math.exp(t)\n",
        "\n",
        "#Arreglo inicial del metodo\n",
        "h = (b-a)/N\n",
        "t = a\n",
        "w = r\n",
        "print('Resultados de la Tabla 5.7:')\n",
        "print(\".......................................................................\")\n",
        "print(\"ti\", \"     y(ti)    \", \"   wi   \", \" Error\")\n",
        "print(t, format( g(t),' .7f'), format(w,' .7f'), format( abs(w-g(t)),' .7f'))\n",
        "\n",
        "#Inicio del metodo\n",
        "for i in range(1,N+1):\n",
        "\tw = w + (h/4)*(f(t,w) + 3*f(t + (2/3)*h,w + (2/3)*h*f(t + h/3,w + (h/3)*f(t,w))))\n",
        "\tt = round(a + i*h,2)\n",
        "\n",
        "#Resultados para la tabla 1\n",
        "\tprint(t, format( g(t),' .7f'), format(w,' .7f'), format( abs(w-g(t)),' .7f'))"
      ],
      "execution_count": null,
      "outputs": [
        {
          "output_type": "stream",
          "name": "stdout",
          "text": [
            ".......................................................................\n",
            "* Metodo de Heun*\n",
            ".......................................................................\n",
            "Ingresar el limite inferior: a = 0\n",
            "Ingresar el limite superior: b = 2\n",
            "Ingresar el valor r de la condicion inicial: y(a) = 0.5\n",
            "Ingresar el entero: N = 10\n",
            "Resultados de la Tabla 5.7:\n",
            ".......................................................................\n",
            "ti      y(ti)        wi     Error\n",
            "0.0  0.5000000  0.5000000  0.0000000\n",
            "0.2  0.8292986  0.8292444  0.0000542\n",
            "0.4  1.2140877  1.2139750  0.0001127\n",
            "0.6  1.6489406  1.6487659  0.0001747\n",
            "0.8  2.1272295  2.1269905  0.0002390\n",
            "1.0  2.6408591  2.6405555  0.0003035\n",
            "1.2  3.1799415  3.1795763  0.0003653\n",
            "1.4  3.7324000  3.7319803  0.0004197\n",
            "1.6  4.2834838  4.2830230  0.0004608\n",
            "1.8  4.8151763  4.8146966  0.0004797\n",
            "2.0  5.3054720  5.3050072  0.0004648\n"
          ]
        }
      ]
    },
    {
      "cell_type": "markdown",
      "metadata": {
        "id": "irzrPFkjtse9"
      },
      "source": [
        "Runge-Kutta de orden 4"
      ]
    },
    {
      "cell_type": "code",
      "metadata": {
        "id": "5cHyuCQItssc",
        "colab": {
          "base_uri": "https://localhost:8080/"
        },
        "outputId": "1b5f898f-b510-49de-9c1f-b84e14454c4f"
      },
      "source": [
        "#MÉTODOS NUMERICOS\n",
        "#ARELY ARTEAGA\n",
        "#ACTIVIDAD 3- (C) RUNGE-KUTTA\n",
        "#Programa que implementa el metodo de Runge-Kutta de orden 4\n",
        "\n",
        "#Ingresar los limites superior e inferior del intervalo [a,b]\n",
        "a = float(input(\"Ingrese el limite inferior (a): \"))\n",
        "b = float(input(\"Ingrese el limite superior (b): \"))\n",
        "\n",
        "#Ingresar la condicion inicial y(a) = r\n",
        "r = float(input(\"Ingrese el valor de la condicion inicial y(a) = \"))\n",
        "\n",
        "#Ingresar el valor de N\n",
        "N = int(input(\"Ingrese el entero N: \"))\n",
        "\n",
        "#Definimos la solucion exacta de la ecuacion diferencial\n",
        "import math\n",
        "def g(t):\n",
        "  return pow(t+1,2)-0.5*math.exp(t)\n",
        "\n",
        "#Arreglo inicial del metodo\n",
        "h = (b-a)/N\n",
        "t = a\n",
        "w = r\n",
        "print(\"---------------------------------\")\n",
        "print(\"ti\", \"  yi=y(ti)\" , \"    wi   \", \" |yi-wi|\")\n",
        "print(t, format(g(t),'.7f'), format(w,'.7f'), format(abs(w-g(t)),'.7f'))\n",
        "\n",
        "#Definimos la funcion f(t,w) = y'\n",
        "def f(t,y):\n",
        "  return y - pow(t,2) + 1\n",
        "\n",
        "#Inicio del metodo\n",
        "for i in range (1,N+1):\n",
        "  k1 = h*f(t,w)\n",
        "  k2 = h*f(t+h/2, w+k1/2)\n",
        "  k3 = h*f(t+h/2, w+k2/2)\n",
        "  k4 = h*f(t+h, w+k3)\n",
        "  w = w+(k1+2*k2+2*k3+k4)/6\n",
        "  t = round(a + i*h,2)\n",
        "#Resultados para la tabla\n",
        "  print(t, format(g(t),'.7f'), format(w,'.7f'), format(abs(w-g(t)),'.7f'))\n",
        "\n",
        "print(\"---------------------------------\")\n"
      ],
      "execution_count": null,
      "outputs": [
        {
          "output_type": "stream",
          "name": "stdout",
          "text": [
            "Ingrese el limite inferior (a): 0\n",
            "Ingrese el limite superior (b): 2\n",
            "Ingrese el valor de la condicion inicial y(a) = 0.5\n",
            "Ingrese el entero N: 10\n",
            "---------------------------------\n",
            "ti   yi=y(ti)     wi     |yi-wi|\n",
            "0.0 0.5000000 0.5000000 0.0000000\n",
            "0.2 0.8292986 0.8292933 0.0000053\n",
            "0.4 1.2140877 1.2140762 0.0000114\n",
            "0.6 1.6489406 1.6489220 0.0000186\n",
            "0.8 2.1272295 2.1272027 0.0000269\n",
            "1.0 2.6408591 2.6408227 0.0000364\n",
            "1.2 3.1799415 3.1798942 0.0000474\n",
            "1.4 3.7324000 3.7323401 0.0000599\n",
            "1.6 4.2834838 4.2834095 0.0000743\n",
            "1.8 4.8151763 4.8150857 0.0000906\n",
            "2.0 5.3054720 5.3053630 0.0001089\n",
            "---------------------------------\n"
          ]
        }
      ]
    },
    {
      "cell_type": "markdown",
      "metadata": {
        "id": "IweP7Jcfts8o"
      },
      "source": [
        "Runge-Kutta de orden 4 para sistemas de 2 ecuaciones"
      ]
    },
    {
      "cell_type": "code",
      "metadata": {
        "id": "6mhm5_yOttJN"
      },
      "source": [
        "#Programa que implementa el metodo de Runge-Kutta de orden 4 para sistemas de 2 ecuaciones\n",
        "\n",
        "#Ingresar el valor de N\n",
        "N = int(input(\"Ingrese el entero N: \"))\n",
        "\n",
        "#Ingresar las condiciones iniciales y1,2(a) = w1,2\n",
        "w1 = float(input(\"Ingrese el valor de la condicion inicial y1(a) = \"))\n",
        "w2 = float(input(\"Ingrese el valor de la condicion inicial y2(a) = \"))\n",
        "\n",
        "#Definimos la solucion exacta de la ecuacion diferencial 1\n",
        "import math\n",
        "def g1(t):\n",
        "\treturn -3.375*math.exp(-2*t) + 1.875*math.exp(-0.4*t) + 1.5\n",
        "\n",
        "#Definimos la solucion exacta de la ecuacion diferencial 2\n",
        "def g2(t):\n",
        "\treturn -2.25*math.exp(-2*t) + 2.25*math.exp(-0.4*t)\n",
        "\n",
        "#Arreglo inicial del metodo\n",
        "h = 0.1\n",
        "t = 0\n",
        "\n",
        "#Arreglo inicial de la tabla\n",
        "print(\"----------------------------------------------------------------\")\n",
        "print(\" t\", \"     w1\" , \"      w2   \",\"    I1 \", \"      I2\", \"   |I1(t)-w1|\", \"|I2(t)-w2|\")\n",
        "print(\"----------------------------------------------------------------\")\n",
        "print(format(t,'.1f'), format(w1,'.7f'), format(w2,'.7f'), format(g1(t),'.7f'),\\\n",
        " format(g2(t),'.7f'), format(abs(g1(t)-w1),'.7f'), format(abs(g2(t)-w2),'.7f'))\n",
        "\n",
        "#Definimos la funcion f1(t,w) = y1'\n",
        "def f1(t,I1,I2):\n",
        "\treturn -4*I1 + 3*I2 + 6\n",
        "\n",
        "#Definimos la funcion f2(t,w) = y2'\n",
        "def f2(t,I1,I2):\n",
        "\treturn -2.4*I1 + 1.6*I2 + 3.6\n",
        "\n",
        "#Inicio del metodo\n",
        "for i in range (1,N):\n",
        "\tk11 = h*f1(t,w1,w2)\n",
        "\tk12 = h*f2(t,w1,w2)\n",
        "\n",
        "\tk21 = h*f1(t+h/2, w1+k11/2, w2+k12/2)\n",
        "\tk22 = h*f2(t+h/2, w1+k11/2, w2+k12/2)\n",
        "\n",
        "\tk31 = h*f1(t+h/2, w1+k21/2, w2+k22/2)\n",
        "\tk32 = h*f2(t+h/2, w1+k21/2, w2+k22/2)\n",
        "\n",
        "\tk41 = h*f1(t+h, w1+k31, w2+k32)\n",
        "\tk42 = h*f2(t+h, w1+k31, w2+k32)\n",
        "\n",
        "\tw1 = w1+(k11+2*k21+2*k31+k41)/6\n",
        "\tw2 = w2+(k12+2*k22+2*k32+k42)/6\n",
        "\n",
        "\tt = round(i*h,2)\n",
        "#Resultados para la tabla\n",
        "\tprint(t, format(w1,'.7f'), format(w2,'.7f'), format(g1(t),'.7f'), format(g2(t),'.7f'),\\\n",
        "\t format(abs(g1(t)-w1),'.7f'), format(abs(g2(t)-w2),'.7f'))\n",
        "print(\"----------------------------------------------------------------\")\n"
      ],
      "execution_count": null,
      "outputs": []
    },
    {
      "cell_type": "markdown",
      "metadata": {
        "id": "LTBBZEiIttVx"
      },
      "source": [
        "Runge-Kutta de orden 4 para sistemas de 2 ecuaciones"
      ]
    },
    {
      "cell_type": "code",
      "metadata": {
        "id": "e022IAPbttg9"
      },
      "source": [
        "#Programa que implementa el metodo de Runge-Kutta de orden 4 para sistemas de 2 ecuaciones\n",
        "\n",
        "#Ingresar los limites superior e inferior del intervalo [a,b]\n",
        "a = float(input(\"Ingrese el limite inferior (a): \"))\n",
        "b = float(input(\"Ingrese el limite superior (b): \"))\n",
        "\n",
        "#Ingresar el tamaño del intervalo\n",
        "N = int(input(\"Ingrese el entero N: \"))\n",
        "\n",
        "#Ingresar las condiciones iniciales y1,2(a) = w1,2\n",
        "w1 = float(input(\"Ingrese el valor de la condicion inicial y1(a) = \"))\n",
        "w2 = float(input(\"Ingrese el valor de la condicion inicial y2(a) = \"))\n",
        "\n",
        "#Definimos la solucion exacta de la ecuacion diferencial 1\n",
        "import math\n",
        "def g1(t):\n",
        "\treturn 0.2*math.exp(2*t)*(math.sin(t)-2*math.cos(t))\n",
        "\n",
        "#Definimos la solucion exacta de la ecuacion diferencial 2\n",
        "def g2(t):\n",
        "\treturn 0.2*math.exp(2*t)*(4*math.sin(t)-3*math.cos(t))\n",
        "\n",
        "#Arreglo inicial del metodo\n",
        "h = (b-a)/N\n",
        "t = a\n",
        "\n",
        "#Arreglo inicial de la tabla\n",
        "print(\"---------------------------------------------------------------------\")\n",
        "print(\" t\", \"  y(t)=u1(t)\" , \"     w1 \",\"    y'(t)=u2(t)\", \"    w2\",\\\n",
        " \"    |y(t)-w1|\", \"  |y'(t)-w2|\")\n",
        "print(\"---------------------------------------------------------------------\")\n",
        "print(format(t,'.1f'), format(g1(t),'.8f'),format(w1,'.8f'), format(g2(t),'.8f'),\\\n",
        "\tformat(w2,'.8f'), format(abs(g1(t)-w1),'.8f'), format(abs(g2(t)-w2),'.8f'))\n",
        "\n",
        "#Definimos la funcion f1(t,w) = y1'\n",
        "def f1(t,u1,u2):\n",
        "\treturn u2\n",
        "\n",
        "#Definimos la funcion f2(t,w) = y2'\n",
        "def f2(t,u1,u2):\n",
        "\treturn math.exp(2*t)*math.sin(t)-2*u1+2*u2\n",
        "\n",
        "#Inicio del metodo\n",
        "for i in range (1,N+1):\n",
        "\tk11 = h*f1(t,w1,w2)\n",
        "\tk12 = h*f2(t,w1,w2)\n",
        "\n",
        "\tk21 = h*f1(t+h/2, w1+k11/2, w2+k12/2)\n",
        "\tk22 = h*f2(t+h/2, w1+k11/2, w2+k12/2)\n",
        "\n",
        "\tk31 = h*f1(t+h/2, w1+k21/2, w2+k22/2)\n",
        "\tk32 = h*f2(t+h/2, w1+k21/2, w2+k22/2)\n",
        "\n",
        "\tk41 = h*f1(t+h, w1+k31, w2+k32)\n",
        "\tk42 = h*f2(t+h, w1+k31, w2+k32)\n",
        "\n",
        "\tw1 = w1+(k11+2*k21+2*k31+k41)/6\n",
        "\tw2 = w2+(k12+2*k22+2*k32+k42)/6\n",
        "\n",
        "\tt = round(a+i*h,2)\n",
        "#Resultados para la tabla\n",
        "\tprint(format(t,'.1f'), format(g1(t),'.8f'),format(w1,'.8f'), format(g2(t),'.8f'),\\\n",
        "\t\tformat(w2,'.8f'), format(abs(g1(t)-w1),'.8f'), format(abs(g2(t)-w2),'.8f'))\n",
        "print(\"---------------------------------------------------------------------\")"
      ],
      "execution_count": null,
      "outputs": []
    }
  ]
}