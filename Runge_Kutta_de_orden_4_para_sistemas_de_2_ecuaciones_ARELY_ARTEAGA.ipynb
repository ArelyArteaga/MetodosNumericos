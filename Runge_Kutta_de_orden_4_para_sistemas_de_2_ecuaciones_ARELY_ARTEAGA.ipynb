{
  "nbformat": 4,
  "nbformat_minor": 0,
  "metadata": {
    "colab": {
      "provenance": [],
      "authorship_tag": "ABX9TyOKRGuQgx02nbjlEe93hpPX"
    },
    "kernelspec": {
      "name": "python3",
      "display_name": "Python 3"
    },
    "language_info": {
      "name": "python"
    }
  },
  "cells": [
    {
      "cell_type": "code",
      "metadata": {
        "colab": {
          "base_uri": "https://localhost:8080/",
          "height": 129
        },
        "id": "ICiW6WnPO-gy",
        "outputId": "96f4fa13-6677-492e-a1ba-4fe1329d3bf1"
      },
      "source": [
        "\n",
        "#METODOS NUMERICOS\n",
        "#ARELY ARTEAGA\n",
        "\n",
        "\n",
        "import real\n",
        "real(a,b,h,t )\n",
        "real(dimension(30):: alfa,w)\n",
        "real dimension(30,30):: k\n",
        "integer :: N,m,i,l,j\n",
        "\n",
        "write(,) \"Este programa encuentra la solucion de un sistema de 2 ecuaciones\"\n",
        "write(,) \"Introduce los extremos (a,b)\"\n",
        "read(,) a,b\n",
        "write(,) \"Introduce el numero de particiones entero N \"\n",
        "read(,) N 66\n",
        "write(,) \"Escriba las condiciones iniciales\"\n",
        "\n",
        "m=2\n",
        "Do 1=1,m\n",
        "    Read(,) alfa(1)\n",
        "end do\n",
        "\n",
        "h=(b-a)/N\n",
        "t=a\n",
        "Do 1=1,m\n",
        "    w(1)=alfa(1)\n",
        "end do\n",
        "    write(,) t,w(1),w(2)\n",
        "    Do i = 1,N\n",
        "        k(1,1) = h*f1(w(1),w(2))\n",
        "        k(1,2) = h*f2(w(1),w(2))\n",
        "        k(2,1) = h*f1(w(1)+0.5*k(1,1),w(2)+0.5*k(1,2))\n",
        "        k(2,2) = h*f2(w(1)+0.5*k(1,1),w(2)+0.5*k(1,2))\n",
        "        k(3,1) = h*f1(w(1)+0.5*k(2,1),w(2)+0.5*k(2,2))\n",
        "        k(3,2) = h*f2(w(1)+0.5*k(2,1),w(2)+0.5*k(2,2))\n",
        "        k(4,1) = h*f1(w(1)+k(3,1),w(2)+k(3,2))\n",
        "        k(4,2) = h*f2(w(1)+k(3,1),w(2)+k(3,2))\n",
        "    Do j = 1, m\n",
        "        w(j) = w(j)+((k(l,j)+2*k(2,j)+2*k(3,j)+k(4,j))/6)\n",
        "    End do\n",
        "    t=a+i*h\n",
        "    write(,) t,w(1),w(2)\n",
        "    end do\n",
        "\n",
        "    Contains\n",
        "    real function f1(x,y)\n",
        "    real::x,y\n",
        "    f1=-(4*x)+(3*y)+6\n",
        "    End function\n",
        "    real function f2(x,y)\n",
        "    real :: x,y\n",
        "    f2 = -(2.4*x)+(1.6*y)+3.6\n",
        ""
      ],
      "execution_count": null,
      "outputs": [
        {
          "output_type": "error",
          "ename": "SyntaxError",
          "evalue": "ignored",
          "traceback": [
            "\u001b[0;36m  File \u001b[0;32m\"<ipython-input-10-a5fc03a37f91>\"\u001b[0;36m, line \u001b[0;32m9\u001b[0m\n\u001b[0;31m    real, dimension(30):: alfa,w\u001b[0m\n\u001b[0m                        ^\u001b[0m\n\u001b[0;31mSyntaxError\u001b[0m\u001b[0;31m:\u001b[0m invalid syntax\n"
          ]
        }
      ]
    },
    {
      "cell_type": "code",
      "metadata": {
        "id": "X73gREphp7Ko"
      },
      "source": [],
      "execution_count": null,
      "outputs": []
    },
    {
      "cell_type": "code",
      "metadata": {
        "colab": {
          "base_uri": "https://localhost:8080/",
          "height": 279
        },
        "id": "ydDmsf3WTgAu",
        "outputId": "f02d64b3-8f54-436e-cff6-9ec286dd29c0"
      },
      "source": [
        "import numpy as np\n",
        "from scipy.integrate import odeint\n",
        "import matplotlib.pyplot as plt\n",
        "\n",
        "# function that returns dy/dt\n",
        "def model(y,t):\n",
        "    k = 0.3\n",
        "    dydt = -k * y\n",
        "    return dydt\n",
        "\n",
        "# initial condition\n",
        "y0 = 5\n",
        "\n",
        "# time points\n",
        "t = np.linspace(0,20)\n",
        "\n",
        "# solve ODE\n",
        "y = odeint(model,y0,t)\n",
        "\n",
        "# plot results\n",
        "plt.plot(t,y)\n",
        "plt.xlabel('time')\n",
        "plt.ylabel('y(t)')\n",
        "plt.show()"
      ],
      "execution_count": null,
      "outputs": [
        {
          "output_type": "display_data",
          "data": {
            "image/png": "[encoded data removed]",
            "text/plain": [
              "<Figure size 432x288 with 1 Axes>"
            ]
          },
          "metadata": {
            "needs_background": "light"
          }
        }
      ]
    },
    {
      "cell_type": "code",
      "metadata": {
        "colab": {
          "base_uri": "https://localhost:8080/",
          "height": 279
        },
        "id": "G_W3eZJdTgOV",
        "outputId": "96bec0b9-6b39-45ee-db06-a250392a178f"
      },
      "source": [
        "import numpy as np\n",
        "from scipy.integrate import odeint\n",
        "import matplotlib.pyplot as plt\n",
        "\n",
        "# function that returns dy/dt\n",
        "def model(y,t,k):\n",
        "    dydt = -k * y\n",
        "    return dydt\n",
        "\n",
        "# condicion inicial\n",
        "y0 = 5\n",
        "\n",
        "# puntos de tiempo\n",
        "t = np.linspace(0,20)\n",
        "\n",
        "# resolver las EDPs\n",
        "k = 0.1\n",
        "y1 = odeint(model,y0,t,args=(k,))\n",
        "k = 0.2\n",
        "y2 = odeint(model,y0,t,args=(k,))\n",
        "k = 0.5\n",
        "y3 = odeint(model,y0,t,args=(k,))\n",
        "\n",
        "# plot results\n",
        "plt.plot(t,y1,'r-',linewidth=2,label='k=0.1')\n",
        "plt.plot(t,y2,'b--',linewidth=2,label='k=0.2')\n",
        "plt.plot(t,y3,'g:',linewidth=2,label='k=0.5')\n",
        "plt.xlabel('time')\n",
        "plt.ylabel('y(t)')\n",
        "plt.legend()\n",
        "plt.show()"
      ],
      "execution_count": null,
      "outputs": [
        {
          "output_type": "display_data",
          "data": {
            "image/png": "[encoded data removed]",
            "text/plain": [
              "<Figure size 432x288 with 1 Axes>"
            ]
          },
          "metadata": {
            "needs_background": "light"
          }
        }
      ]
    },
    {
      "cell_type": "code",
      "metadata": {
        "colab": {
          "base_uri": "https://localhost:8080/",
          "height": 129
        },
        "id": "7qgtDCekTgRH",
        "outputId": "095144ac-4859-4890-da3d-8a8a6191d77f"
      },
      "source": [
        "import numpy as np\n",
        "from scipy.integrate import odeint\n",
        "import matplotlib.pyplot as plt\n",
        "\n",
        "# function that returns dy/dt\n",
        "def model(y,t,k):\n",
        "    dydt = -k * y\n",
        "    return dydt\n",
        "\n",
        "# condicion inicial\n",
        "y0 = 5\n",
        "\n",
        "# puntos de tiempo\n",
        "t = np.linspace(0,20)\n",
        "\n",
        "# resolver las EDPs\n",
        "        k(1,1) = h*f1(w(1),w(2))\n",
        "        y1 = odeint(model,y0,t,args=(k,))\n",
        "\n",
        "        k(1,2) = h*f2(w(1),w(2))\n",
        "        y2 = odeint(model,y0,t,args=(k,))\n",
        "\n",
        "        k(2,1) = h*f1(w(1)+0.5*k(1,1),w(2)+0.5*k(1,2))\n",
        "        y3 = odeint(model,y0,t,args=(k,))\n",
        "\n",
        "        k(2,2) = h*f2(w(1)+0.5*k(1,1),w(2)+0.5*k(1,2))\n",
        "        y4 = odeint(model,y0,t,args=(k,))\n",
        "\n",
        "        k(3,1) = h*f1(w(1)+0.5*k(2,1),w(2)+0.5*k(2,2))\n",
        "        y5 = odeint(model,y0,t,args=(k,))\n",
        "\n",
        "        k(3,2) = h*f2(w(1)+0.5*k(2,1),w(2)+0.5*k(2,2))\n",
        "        y6 = odeint(model,y0,t,args=(k,))\n",
        "\n",
        "        k(4,1) = h*f1(w(1)+k(3,1),w(2)+k(3,2))\n",
        "        y7 = odeint(model,y0,t,args=(k,))\n",
        "\n",
        "        k(4,2) = h*f2(w(1)+k(3,1),w(2)+k(3,2))\n",
        "        y8 = odeint(model,y0,t,args=(k,))\n",
        "\n",
        "\n",
        "\n",
        "# plot results\n",
        "plt.plot(t,y1,'r-',linewidth=2,label='k(1,1) =')\n",
        "plt.plot(t,y2,'b--',linewidth=2,label='k(1,2) = ')\n",
        "plt.plot(t,y3,'g:',linewidth=2,label='k(2,1) =')\n",
        "plt.plot(t,y4,'r-',linewidth=2,label='k(2,2) =')\n",
        "plt.plot(t,y5,'r-',linewidth=2,label='k(3,1) =')\n",
        "plt.plot(t,y6,'r-',linewidth=2,label='k(3,2) =')\n",
        "plt.plot(t,y7,'r-',linewidth=2,label='k(4,1) =')\n",
        "plt.plot(t,y8,'r-',linewidth=2,label='k(4,2) =')\n",
        "\n",
        "plt.xlabel('time')\n",
        "plt.ylabel('y(t)')\n",
        "plt.legend()\n",
        "plt.show()"
      ],
      "execution_count": null,
      "outputs": [
        {
          "output_type": "error",
          "ename": "IndentationError",
          "evalue": "ignored",
          "traceback": [
            "\u001b[0;36m  File \u001b[0;32m\"<ipython-input-5-c2afef8f80bc>\"\u001b[0;36m, line \u001b[0;32m17\u001b[0m\n\u001b[0;31m    k(1,1) = h*f1(w(1),w(2))\u001b[0m\n\u001b[0m    ^\u001b[0m\n\u001b[0;31mIndentationError\u001b[0m\u001b[0;31m:\u001b[0m unexpected indent\n"
          ]
        }
      ]
    },
    {
      "cell_type": "code",
      "metadata": {
        "id": "nXjNK3LlTgUd",
        "colab": {
          "base_uri": "https://localhost:8080/",
          "height": 316
        },
        "outputId": "c59720d8-34fa-4466-eeea-a1eb7f39317f"
      },
      "source": [
        "#METODOS NUMÉRICOS\n",
        "#ARELY ARTEAGA\n",
        "#Programa Runge-Kutta oscilaor/pendulo\n",
        "#ACTIVIDAD 2\n",
        "\n",
        "#definición de funciones fs\n",
        "def f1(t,w1, w2):\n",
        "    funcion1 = 1\n",
        "    return funcion1\n",
        "def f2(t,w1,w2):\n",
        "    funcion2 = .1\n",
        "    return funcion2\n",
        "\n",
        "#Entrada de información: input\n",
        "#condiciones iniciales: posicion 1, velocidad 0\n",
        "a = float(input(' dame al extremo izquierdo del intervalo: '))\n",
        "b = float(input('dome el extremo derecho del intervalo: '))\n",
        "N = float(input(' dame el numero de subdivisiones del intervalo: '))\n",
        "alfal = float(input('dame la condición inicial ul(a): '))\n",
        "alfa2 = float(input('dame la condición inicial u2(a): '))\n",
        "\n",
        "# construcción de variables: paso 1\n",
        "h = (b-a)/N\n",
        "t=a\n",
        "\n",
        "# inicialización paso 3/3\n",
        "w1=alfa1\n",
        "w2=alfa2\n",
        "print(t,w1,w2)\n",
        "\n",
        "#ciclo principal: paso 4 (y pasos internos)\n",
        "i=1\n",
        "while i <= N:\n",
        "    k11=f1(t ,w1,w2)\n",
        "    k12=f2(t,w1,w2)\n",
        "    k2l=f1(t+h/2, w1+k11/2, w2+k12/2)\n",
        "    k22=f2(t+h/2, w1+k11/2, w2+k12/2)\n",
        "    k31=f1(t+h/2, w1+k21/2, w2+k22/2)\n",
        "    k32=f2(t+h/2, w1+k21/2, w2+k22/2)\n",
        "    k41=f1(t+h, w1+k31, w2+k31)\n",
        "    k42=f2(t+h, w1+k31, w2+k32)\n",
        "    w1 = w1+(k11+2*k21+2*k31+k41)/6\n",
        "    w2 = w2+(k12+2*k22+2*k32+k42)/6\n",
        "\n",
        "    t=0 + i*h\n",
        "    print(t,w1,w2)\n",
        "    i=1-1\n"
      ],
      "execution_count": null,
      "outputs": [
        {
          "name": "stdout",
          "output_type": "stream",
          "text": [
            " dame al extremo izquierdo del intervalo: 0\n",
            "dome el extremo derecho del intervalo: 2\n",
            " dame el numero de subdivisiones del intervalo: 6\n",
            "dame la condición inicial ul(a): 0.1\n",
            "dame la condición inicial u2(a): 0.6\n"
          ]
        },
        {
          "output_type": "error",
          "ename": "NameError",
          "evalue": "ignored",
          "traceback": [
            "\u001b[0;31m---------------------------------------------------------------------------\u001b[0m",
            "\u001b[0;31mNameError\u001b[0m                                 Traceback (most recent call last)",
            "\u001b[0;32m<ipython-input-6-0ef83c74a935>\u001b[0m in \u001b[0;36m<module>\u001b[0;34m()\u001b[0m\n\u001b[1;32m     25\u001b[0m \u001b[0;34m\u001b[0m\u001b[0m\n\u001b[1;32m     26\u001b[0m \u001b[0;31m# inicialización paso 3/3\u001b[0m\u001b[0;34m\u001b[0m\u001b[0;34m\u001b[0m\u001b[0;34m\u001b[0m\u001b[0m\n\u001b[0;32m---> 27\u001b[0;31m \u001b[0mw1\u001b[0m\u001b[0;34m=\u001b[0m\u001b[0malfa1\u001b[0m\u001b[0;34m\u001b[0m\u001b[0;34m\u001b[0m\u001b[0m\n\u001b[0m\u001b[1;32m     28\u001b[0m \u001b[0mw2\u001b[0m\u001b[0;34m=\u001b[0m\u001b[0malfa2\u001b[0m\u001b[0;34m\u001b[0m\u001b[0;34m\u001b[0m\u001b[0m\n\u001b[1;32m     29\u001b[0m \u001b[0mprint\u001b[0m\u001b[0;34m(\u001b[0m\u001b[0mt\u001b[0m\u001b[0;34m,\u001b[0m\u001b[0mw1\u001b[0m\u001b[0;34m,\u001b[0m\u001b[0mw2\u001b[0m\u001b[0;34m)\u001b[0m\u001b[0;34m\u001b[0m\u001b[0;34m\u001b[0m\u001b[0m\n",
            "\u001b[0;31mNameError\u001b[0m: name 'alfa1' is not defined"
          ]
        }
      ]
    },
    {
      "cell_type": "code",
      "metadata": {
        "id": "exL8NPlKp9Af"
      },
      "source": [],
      "execution_count": null,
      "outputs": []
    },
    {
      "cell_type": "code",
      "metadata": {
        "colab": {
          "base_uri": "https://localhost:8080/"
        },
        "id": "kmf_aJmsp9Is",
        "outputId": "70990598-9288-453c-c6f0-af53209573d7"
      },
      "source": [
        "#METODOS NUMÉRICOS\n",
        "#ARELY ARTEAGA\n",
        "#TAREA 9- ACTIVIDAD 3 a)\n",
        "#Programa que implementa el metodo de Runge-Kutta de orden 4 para sistemas de 2 ecuaciones\n",
        "\n",
        "#Ingresar el valor de N\n",
        "N = int(input(\"Ingrese el entero N: \"))\n",
        "\n",
        "#Ingresar las condiciones iniciales y1,2(a) = w1,2\n",
        "w1 = float(input(\"Ingrese el valor de la condicion inicial y1(a) = \"))\n",
        "w2 = float(input(\"Ingrese el valor de la condicion inicial y2(a) = \"))\n",
        "\n",
        "#Definimos la solucion exacta de la ecuacion diferencial 1\n",
        "import math\n",
        "def g1(t):\n",
        "\treturn -3.375*math.exp(-2*t) + 1.875*math.exp(-0.4*t) + 1.5\n",
        "\n",
        "#Definimos la solucion exacta de la ecuacion diferencial 2\n",
        "def g2(t):\n",
        "\treturn -2.25*math.exp(-2*t) + 2.25*math.exp(-0.4*t)\n",
        "\n",
        "#Arreglo inicial del metodo\n",
        "h = 0.1\n",
        "t = 0\n",
        "\n",
        "#Arreglo inicial de la tabla\n",
        "print(\"----------------------------------------------------------------\")\n",
        "print(\" t\", \"     w1\" , \"      w2   \",\"    I1 \", \"      I2\", \"   |I1(t)-w1|\", \"|I2(t)-w2|\")\n",
        "print(\"----------------------------------------------------------------\")\n",
        "print(format(t,'.1f'), format(w1,'.7f'), format(w2,'.7f'), format(g1(t),'.7f'),\\\n",
        " format(g2(t),'.7f'), format(abs(g1(t)-w1),'.7f'), format(abs(g2(t)-w2),'.7f'))\n",
        "\n",
        "#Definimos la funcion f1(t,w) = y1'\n",
        "def f1(t,I1,I2):\n",
        "\treturn -4*I1 + 3*I2 + 6\n",
        "\n",
        "#Definimos la funcion f2(t,w) = y2'\n",
        "def f2(t,I1,I2):\n",
        "\treturn -2.4*I1 + 1.6*I2 + 3.6\n",
        "\n",
        "#Inicio del metodo\n",
        "for i in range (1,N):\n",
        "\tk11 = h*f1(t,w1,w2)\n",
        "\tk12 = h*f2(t,w1,w2)\n",
        "\n",
        "\tk21 = h*f1(t+h/2, w1+k11/2, w2+k12/2)\n",
        "\tk22 = h*f2(t+h/2, w1+k11/2, w2+k12/2)\n",
        "\n",
        "\tk31 = h*f1(t+h/2, w1+k21/2, w2+k22/2)\n",
        "\tk32 = h*f2(t+h/2, w1+k21/2, w2+k22/2)\n",
        "\n",
        "\tk41 = h*f1(t+h, w1+k31, w2+k32)\n",
        "\tk42 = h*f2(t+h, w1+k31, w2+k32)\n",
        "\n",
        "\tw1 = w1+(k11+2*k21+2*k31+k41)/6\n",
        "\tw2 = w2+(k12+2*k22+2*k32+k42)/6\n",
        "\n",
        "\tt = round(i*h,2)\n",
        "#Resultados para la tabla\n",
        "\tprint(t, format(w1,'.7f'), format(w2,'.7f'), format(g1(t),'.7f'), format(g2(t),'.7f'),\\\n",
        "\t format(abs(g1(t)-w1),'.7f'), format(abs(g2(t)-w2),'.7f'))\n",
        "print(\"----------------------------------------------------------------\")\n"
      ],
      "execution_count": null,
      "outputs": [
        {
          "output_type": "stream",
          "name": "stdout",
          "text": [
            "Ingrese el entero N: 6\n",
            "Ingrese el valor de la condicion inicial y1(a) = 0\n",
            "Ingrese el valor de la condicion inicial y2(a) = 0\n",
            "----------------------------------------------------------------\n",
            " t      w1       w2        I1        I2    |I1(t)-w1| |I2(t)-w2|\n",
            "----------------------------------------------------------------\n",
            "0.0 0.0000000 0.0000000 0.0000000 0.0000000 0.0000000 0.0000000\n",
            "0.1 0.5382552 0.3196262 0.5382639 0.3196320 0.0000087 0.0000058\n",
            "0.2 0.9684987 0.5687822 0.9685130 0.5687917 0.0000143 0.0000095\n",
            "0.3 1.3107190 0.7607331 1.3107365 0.7607448 0.0000175 0.0000117\n",
            "0.4 1.5812652 0.9063206 1.5812844 0.9063334 0.0000191 0.0000127\n",
            "0.5 1.7935075 1.0144024 1.7935270 1.0144155 0.0000196 0.0000130\n",
            "----------------------------------------------------------------\n"
          ]
        }
      ]
    },
    {
      "cell_type": "code",
      "metadata": {
        "id": "fuJlXDcqssEz"
      },
      "source": [],
      "execution_count": null,
      "outputs": []
    },
    {
      "cell_type": "code",
      "metadata": {
        "id": "8NpWC_BAsr1_"
      },
      "source": [],
      "execution_count": null,
      "outputs": []
    },
    {
      "cell_type": "code",
      "metadata": {
        "id": "MI62oZERsrvY"
      },
      "source": [],
      "execution_count": null,
      "outputs": []
    },
    {
      "cell_type": "code",
      "metadata": {
        "id": "yhfUf9vXsrs9"
      },
      "source": [],
      "execution_count": null,
      "outputs": []
    },
    {
      "cell_type": "code",
      "metadata": {
        "id": "0NY3Ep5vsrpm"
      },
      "source": [],
      "execution_count": null,
      "outputs": []
    },
    {
      "cell_type": "code",
      "metadata": {
        "colab": {
          "base_uri": "https://localhost:8080/"
        },
        "id": "NAPF-akMp9Mh",
        "outputId": "c707c9a9-81f8-481d-8d82-73ed51836a2b"
      },
      "source": [
        "#Programa que implementa el metodo de Runge-Kutta de orden 4 para sistemas de 2 ecuaciones\n",
        "\n",
        "#Ingresar los limites superior e inferior del intervalo [a,b]\n",
        "a = float(input(\"Ingrese el limite inferior (a): \"))\n",
        "b = float(input(\"Ingrese el limite superior (b): \"))\n",
        "\n",
        "#Ingresar el tamaño del intervalo\n",
        "N = int(input(\"Ingrese el entero N: \"))\n",
        "\n",
        "#Ingresar las condiciones iniciales y1,2(a) = w1,2\n",
        "w1 = float(input(\"Ingrese el valor de la condicion inicial y1(a) = \"))\n",
        "w2 = float(input(\"Ingrese el valor de la condicion inicial y2(a) = \"))\n",
        "\n",
        "#Definimos la solucion exacta de la ecuacion diferencial 1\n",
        "import math\n",
        "def g1(t):\n",
        "\treturn 0.2*math.exp(2*t)*(math.sin(t)-2*math.cos(t))\n",
        "\n",
        "#Definimos la solucion exacta de la ecuacion diferencial 2\n",
        "def g2(t):\n",
        "\treturn 0.2*math.exp(2*t)*(4*math.sin(t)-3*math.cos(t))\n",
        "\n",
        "#Arreglo inicial del metodo\n",
        "h = (b-a)/N\n",
        "t = a\n",
        "\n",
        "#Arreglo inicial de la tabla\n",
        "print(\"---------------------------------------------------------------------\")\n",
        "print(\" t\", \"  y(t)=u1(t)\" , \"     w1 \",\"    y'(t)=u2(t)\", \"    w2\",\\\n",
        " \"    |y(t)-w1|\", \"  |y'(t)-w2|\")\n",
        "print(\"---------------------------------------------------------------------\")\n",
        "print(format(t,'.1f'), format(g1(t),'.8f'),format(w1,'.8f'), format(g2(t),'.8f'),\\\n",
        "\tformat(w2,'.8f'), format(abs(g1(t)-w1),'.8f'), format(abs(g2(t)-w2),'.8f'))\n",
        "\n",
        "#Definimos la funcion f1(t,w) = y1'\n",
        "def f1(t,u1,u2):\n",
        "\treturn u2\n",
        "\n",
        "#Definimos la funcion f2(t,w) = y2'\n",
        "def f2(t,u1,u2):\n",
        "\treturn math.exp(2*t)*math.sin(t)-2*u1+2*u2\n",
        "\n",
        "#Inicio del metodo\n",
        "for i in range (1,N+1):\n",
        "\tk11 = h*f1(t,w1,w2)\n",
        "\tk12 = h*f2(t,w1,w2)\n",
        "\n",
        "\tk21 = h*f1(t+h/2, w1+k11/2, w2+k12/2)\n",
        "\tk22 = h*f2(t+h/2, w1+k11/2, w2+k12/2)\n",
        "\n",
        "\tk31 = h*f1(t+h/2, w1+k21/2, w2+k22/2)\n",
        "\tk32 = h*f2(t+h/2, w1+k21/2, w2+k22/2)\n",
        "\n",
        "\tk41 = h*f1(t+h, w1+k31, w2+k32)\n",
        "\tk42 = h*f2(t+h, w1+k31, w2+k32)\n",
        "\n",
        "\tw1 = w1+(k11+2*k21+2*k31+k41)/6\n",
        "\tw2 = w2+(k12+2*k22+2*k32+k42)/6\n",
        "\n",
        "\tt = round(a+i*h,2)\n",
        "#Resultados para la tabla\n",
        "\tprint(format(t,'.1f'), format(g1(t),'.8f'),format(w1,'.8f'), format(g2(t),'.8f'),\\\n",
        "\t\tformat(w2,'.8f'), format(abs(g1(t)-w1),'.8f'), format(abs(g2(t)-w2),'.8f'))\n",
        "print(\"---------------------------------------------------------------------\")"
      ],
      "execution_count": null,
      "outputs": [
        {
          "output_type": "stream",
          "name": "stdout",
          "text": [
            "Ingrese el limite inferior (a): 0\n",
            "Ingrese el limite superior (b): 0.5\n",
            "Ingrese el entero N: 6\n",
            "Ingrese el valor de la condicion inicial y1(a) = 0\n",
            "Ingrese el valor de la condicion inicial y2(a) = 0\n",
            "---------------------------------------------------------------------\n",
            " t   y(t)=u1(t)      w1      y'(t)=u2(t)     w2     |y(t)-w1|   |y'(t)-w2|\n",
            "---------------------------------------------------------------------\n",
            "0.0 -0.40000000 0.00000000 -0.60000000 0.00000000 0.40000000 0.60000000\n",
            "0.1 -0.44914690 0.00010917 -0.62682997 0.00409496 0.44925607 0.63092493\n",
            "0.2 -0.50633951 0.00097008 -0.64066310 0.01877746 0.50730959 0.65944056\n",
            "0.2 -0.55740657 0.00373433 -0.63215978 0.05085309 0.56114090 0.68301287\n",
            "0.3 -0.60676700 0.01006322 -0.59667251 0.10556812 0.61683022 0.70224063\n",
            "0.4 -0.65711506 0.02217036 -0.51341116 0.19108308 0.67928542 0.70449424\n",
            "0.5 -0.69356395 0.04318734 -0.38873905 0.32157656 0.73675129 0.71031562\n",
            "---------------------------------------------------------------------\n"
          ]
        }
      ]
    },
    {
      "cell_type": "markdown",
      "metadata": {
        "id": "9OVz0AxoDLe-"
      },
      "source": [
        "#no creo que sea esto lo que busco"
      ]
    },
    {
      "cell_type": "code",
      "metadata": {
        "colab": {
          "base_uri": "https://localhost:8080/",
          "height": 367
        },
        "id": "seQlL21Zp9QC",
        "outputId": "5305929b-845b-44d3-d96e-dd9de9bf93e1"
      },
      "source": [
        "import sys\n",
        "import time\n",
        "from pyaudio import PyAudio, paFloat32, paContinue\n",
        "import numpy\n",
        "from PyQt4 import QtCore, QtGui\n",
        "import matplotlib.pyplot as plt\n",
        "from matplotlib.backends.backend_qt4agg import FigureCanvasQTAgg\n",
        "\n",
        "\n",
        "\"\"\"A simple oscillator that shows the waveform of whatever audio is\n",
        "playing on a sound card.\n",
        "This is meant to be a testing tool for sound cards and pyaudio. In\n",
        "writing this, I realized that pyaudio needs to be updated to something\n",
        "more pythonic. I am sick of juggling device indices and API indices.\n",
        "Note that this is using PyQt4. You must set your Matplotlib to use\n",
        "PyQt4 as well. If you have set your Matplotlib to use PySide instead,\n",
        "just change the import statement above--no other code changes are\n",
        "necessary.\n",
        "\"\"\"\n",
        "\n",
        "\n",
        "# meant for monkey patching into pyaudio\n",
        "def device_index_to_host_api_device_index(self, device_index, host_api_index):\n",
        "    count = 0;\n",
        "    for n in range(device_index):\n",
        "        device_info = self.get_device_info_by_index(n)\n",
        "        if device_info[\"hostApi\"] == host_api_index:\n",
        "            count += 1\n",
        "    return count\n",
        "\n",
        "\n",
        "class MainWindow(QtGui.QMainWindow):\n",
        "    \"\"\" A Qt QMainWindow that is home to a matplotlib figure and two combo\n",
        "    boxes. The combo boxes allow the selection of a sound card by API and\n",
        "    name. The figure will show the waveform of the audio input of that sound\n",
        "    card.\n",
        "    \"\"\"\n",
        "\n",
        "    def __init__(self, parent=None):\n",
        "        super(MainWindow, self).__init__(parent)\n",
        "\n",
        "        # Monkey patch missing methods into PyAudio.\n",
        "        PyAudio.device_index_to_host_api_device_index = (\n",
        "            device_index_to_host_api_device_index)\n",
        "\n",
        "        self.pyaudio = PyAudio()\n",
        "\n",
        "        # Create the UI widgets.\n",
        "        central_widget = QtGui.QWidget(self)\n",
        "        self.setCentralWidget(central_widget)\n",
        "        main_layout = QtGui.QVBoxLayout(central_widget)\n",
        "        self.figure = FigureWidget()\n",
        "        main_layout.addWidget(self.figure)\n",
        "        horizontal_layout = QtGui.QHBoxLayout()\n",
        "        main_layout.addLayout(horizontal_layout)\n",
        "        api_list = QtGui.QComboBox()\n",
        "        api_list.setModel(APIListModel(self.pyaudio))\n",
        "        horizontal_layout.addWidget(api_list)\n",
        "        device_list = QtGui.QComboBox()\n",
        "        device_list_model = DeviceListModel(self.pyaudio)\n",
        "        device_list.setModel(device_list_model)\n",
        "        horizontal_layout.addWidget(device_list)\n",
        "\n",
        "        # Connect the moving parts\n",
        "        api_list.currentIndexChanged.connect(device_list_model.set_api_index)\n",
        "        api_list.currentIndexChanged.connect(self.change_api_index)\n",
        "        device_list.currentIndexChanged.connect(self.change_device_index)\n",
        "\n",
        "        # Tell all widgets to use the default audio device.\n",
        "        default_api_index = (\n",
        "            self.pyaudio.get_default_input_device_info()[\"hostApi\"])\n",
        "        default_device_index = (\n",
        "            self.pyaudio.device_index_to_host_api_device_index(\n",
        "                self.pyaudio.get_default_host_api_info()[\"defaultInputDevice\"],\n",
        "                default_api_index))\n",
        "        self.api_index = default_api_index\n",
        "        self.device_index = default_device_index\n",
        "        self.stream = None\n",
        "        api_list.setCurrentIndex(default_api_index)\n",
        "        device_list_model.set_api_index(default_api_index)\n",
        "        device_list.setCurrentIndex(default_device_index)\n",
        "\n",
        "    def closeEvent(self, event):\n",
        "        \"\"\" Called by Qt when the program quits. Stops audio processing. \"\"\"\n",
        "        self.stream.close()\n",
        "        # wait for audio processing to clear its buffers\n",
        "        time.sleep(0.1)\n",
        "\n",
        "    def change_api_index(self, api_index):\n",
        "        \"\"\" Restarts audio processing with new index. \"\"\"\n",
        "        self.api_index = api_index\n",
        "        self.restart_audio()\n",
        "\n",
        "    def change_device_index(self, device_index):\n",
        "        \"\"\" Restarts audio processing with new index. \"\"\"\n",
        "        self.device_index = device_index\n",
        "        self.restart_audio()\n",
        "\n",
        "    def restart_audio(self):\n",
        "        \"\"\" Restarts audio processing with current API and device indices. \"\"\"\n",
        "        device_info = (\n",
        "            self.pyaudio.get_device_info_by_host_api_device_index(self.api_index,\n",
        "                                                                  self.device_index))\n",
        "        self.num_channels = device_info['maxInputChannels']\n",
        "\n",
        "        if self.stream:\n",
        "            self.stream.close()\n",
        "        self.stream = self.pyaudio.open(\n",
        "            rate=int(device_info['defaultSampleRate']),\n",
        "            channels=self.num_channels,\n",
        "            input_device_index=device_info['index'],\n",
        "            format=paFloat32,\n",
        "            input=True,\n",
        "            stream_callback=self.audio_callback)\n",
        "        self.figure.create_plots(self.num_channels)\n",
        "\n",
        "    def audio_callback(self, in_data, frame_count, time_info, status_flags):\n",
        "        \"\"\" Called by pyaudio whenever audio data is available.\n",
        "        Updates the matplotlib figure.\n",
        "        \"\"\"\n",
        "        data = numpy.fromstring(in_data, dtype=numpy.float32)\n",
        "        data = numpy.reshape(data, (len(data)/self.num_channels,self.num_channels))\n",
        "        self.figure.draw(data)\n",
        "        return (None, paContinue)\n",
        "\n",
        "\n",
        "class FigureWidget(QtGui.QWidget):\n",
        "    \"\"\" A QWidget that contains a matplotlib plot that plots a matrix as a\n",
        "    series of line plots.\n",
        "    \"\"\"\n",
        "\n",
        "    def __init__(self, parent=None):\n",
        "        super(FigureWidget, self).__init__(parent)\n",
        "        self.fig = plt.Figure()\n",
        "        self.setMinimumSize(500,300)\n",
        "        self.canvas = FigureCanvasQTAgg(self.fig)\n",
        "        self.canvas.setParent(self)\n",
        "        self.create_plots(1)\n",
        "        # set the plot background color to the window background color\n",
        "        color = QtGui.QPalette().window().color()\n",
        "        self.fig.set_facecolor((color.redF(), color.greenF(), color.blueF()))\n",
        "        self.canDraw = True\n",
        "\n",
        "    def create_plots(self, num_plots):\n",
        "        \"\"\" Create enough subplots to hold `num_plots` plots. \"\"\"\n",
        "        self.canDraw = False\n",
        "        self.fig.clear()\n",
        "        self.axes = [self.fig.add_subplot(1,num_plots,n+1)\n",
        "                     for n in range(num_plots)]\n",
        "        self.lines = [ax.plot(numpy.zeros(1024))[0] for ax in self.axes]\n",
        "        for ax in self.axes:\n",
        "            ax.set_ylim((-1,1))\n",
        "            ax.set_xlim((0,1024))\n",
        "            # move the spines out of the plot araea so it won't get\n",
        "            # clobbered by the partial redrawing during `self.draw()`.\n",
        "            ax.spines['bottom'].set_position(('outward', 5))\n",
        "            ax.spines['left'].set_position(('outward', 5))\n",
        "            ax.spines['right'].set_visible(False)\n",
        "            ax.spines['top'].set_visible(False)\n",
        "        self.fig.tight_layout()\n",
        "        self.canvas.draw()\n",
        "        self.canDraw = True\n",
        "\n",
        "    def resizeEvent(self, event):\n",
        "        \"\"\" Scale the figure in tandem with the widget. \"\"\"\n",
        "        self.fig.set_size_inches(self.width()/80, self.height()/80)\n",
        "        self.canvas.draw()\n",
        "\n",
        "    def showEvent(self, event):\n",
        "        \"\"\" Called on the first draw. Sets up the correct window geometry. \"\"\"\n",
        "        self.resizeEvent(None)\n",
        "\n",
        "    def draw(self, data):\n",
        "        \"\"\" Update the plots as quickly as possible. \"\"\"\n",
        "        if not self.canDraw: return()\n",
        "        for n in range(data.shape[1]):\n",
        "            self.lines[n].set_ydata(data[:,n])\n",
        "            self.axes[n].draw_artist(self.axes[n].patch)\n",
        "            self.axes[n].draw_artist(self.lines[n])\n",
        "        self.canvas.update()\n",
        "\n",
        "\n",
        "class APIListModel(QtCore.QAbstractListModel):\n",
        "    \"\"\" An abstract list model that lists pyaudio APIs. \"\"\"\n",
        "    def __init__(self, pyaudio, parent=None):\n",
        "        super(APIListModel, self).__init__(parent)\n",
        "        self.pyaudio = pyaudio\n",
        "\n",
        "    def rowCount(self, parent_index):\n",
        "        return self.pyaudio.get_host_api_count()\n",
        "\n",
        "    def data(self, model_index, role):\n",
        "        if role == QtCore.Qt.DisplayRole:\n",
        "            return self.pyaudio.get_host_api_info_by_index(model_index.row())[\"name\"]\n",
        "        else:\n",
        "            return None\n",
        "\n",
        "\n",
        "class DeviceListModel(QtCore.QAbstractListModel):\n",
        "    \"\"\" An abstract list model that lists pyaudio devices for a given API.\n",
        "    Both input and output devices are shown, but only input devices are\n",
        "    selectable.\n",
        "    \"\"\"\n",
        "    def __init__(self, pyaudio, parent=None):\n",
        "        super(DeviceListModel, self).__init__(parent)\n",
        "        self.pyaudio = pyaudio\n",
        "        self.device_infos = []\n",
        "\n",
        "    def rowCount(self, parent_index):\n",
        "        return len(self.device_infos)\n",
        "\n",
        "    def data(self, model_index, role):\n",
        "        if role == QtCore.Qt.DisplayRole:\n",
        "            return self.device_infos[model_index.row()][\"name\"]\n",
        "        else:\n",
        "            return None\n",
        "\n",
        "    def flags(self, model_index):\n",
        "        if self.pyaudio.get_device_info_by_index(model_index.row())[\"maxInputChannels\"] > 0:\n",
        "            return QtCore.Qt.ItemIsSelectable | QtCore.Qt.ItemIsEnabled\n",
        "        else:\n",
        "            return QtCore.Qt.NoItemFlags\n",
        "\n",
        "    def set_api_index(self, api_index):\n",
        "        self.device_infos = [self.pyaudio.get_device_info_by_host_api_device_index(api_index, n)\n",
        "                             for n in range(self.pyaudio.get_host_api_info_by_index(api_index)[\"deviceCount\"])]\n",
        "        self.reset()\n",
        "\n",
        "\n",
        "if __name__ == \"__main__\":\n",
        "    app = QtGui.QApplication(sys.argv)\n",
        "    main = MainWindow()\n",
        "    main.show()\n",
        "    app.exec_()"
      ],
      "execution_count": null,
      "outputs": [
        {
          "output_type": "error",
          "ename": "ModuleNotFoundError",
          "evalue": "ignored",
          "traceback": [
            "\u001b[0;31m---------------------------------------------------------------------------\u001b[0m",
            "\u001b[0;31mModuleNotFoundError\u001b[0m                       Traceback (most recent call last)",
            "\u001b[0;32m<ipython-input-16-a5567420d0e2>\u001b[0m in \u001b[0;36m<module>\u001b[0;34m()\u001b[0m\n\u001b[1;32m      1\u001b[0m \u001b[0;32mimport\u001b[0m \u001b[0msys\u001b[0m\u001b[0;34m\u001b[0m\u001b[0;34m\u001b[0m\u001b[0m\n\u001b[1;32m      2\u001b[0m \u001b[0;32mimport\u001b[0m \u001b[0mtime\u001b[0m\u001b[0;34m\u001b[0m\u001b[0;34m\u001b[0m\u001b[0m\n\u001b[0;32m----> 3\u001b[0;31m \u001b[0;32mfrom\u001b[0m \u001b[0mpyaudio\u001b[0m \u001b[0;32mimport\u001b[0m \u001b[0mPyAudio\u001b[0m\u001b[0;34m,\u001b[0m \u001b[0mpaFloat32\u001b[0m\u001b[0;34m,\u001b[0m \u001b[0mpaContinue\u001b[0m\u001b[0;34m\u001b[0m\u001b[0;34m\u001b[0m\u001b[0m\n\u001b[0m\u001b[1;32m      4\u001b[0m \u001b[0;32mimport\u001b[0m \u001b[0mnumpy\u001b[0m\u001b[0;34m\u001b[0m\u001b[0;34m\u001b[0m\u001b[0m\n\u001b[1;32m      5\u001b[0m \u001b[0;32mfrom\u001b[0m \u001b[0mPyQt4\u001b[0m \u001b[0;32mimport\u001b[0m \u001b[0mQtCore\u001b[0m\u001b[0;34m,\u001b[0m \u001b[0mQtGui\u001b[0m\u001b[0;34m\u001b[0m\u001b[0;34m\u001b[0m\u001b[0m\n",
            "\u001b[0;31mModuleNotFoundError\u001b[0m: No module named 'pyaudio'",
            "",
            "\u001b[0;31m---------------------------------------------------------------------------\u001b[0;32m\nNOTE: If your import is failing due to a missing package, you can\nmanually install dependencies using either !pip or !apt.\n\nTo view examples of installing some common dependencies, click the\n\"Open Examples\" button below.\n\u001b[0;31m---------------------------------------------------------------------------\u001b[0m\n"
          ],
          "errorDetails": {
            "actions": [
              {
                "action": "open_url",
                "actionText": "Open Examples",
                "url": "/notebooks/snippets/importing_libraries.ipynb"
              }
            ]
          }
        }
      ]
    },
    {
      "cell_type": "code",
      "metadata": {
        "colab": {
          "base_uri": "https://localhost:8080/",
          "height": 323
        },
        "id": "VNBE-DZUDilY",
        "outputId": "506ede81-c463-4f31-fa17-511f3e893ad5"
      },
      "source": [
        "import numpy as np\n",
        "from scipy.integrate import solve_ivp\n",
        "import matplotlib.pyplot as plt\n",
        "import seaborn as sns\n",
        "sns.set()\n",
        "\n",
        "t = np.linspace(0,15,1000)\n",
        "omega_sq = 1\n",
        "y = [0,2] #y[0]=x and y[1]=v\n",
        "\n",
        "def harmonic(t,y):\n",
        "    solution = [y[1],-omega_sq*y[0]]\n",
        "    return solution\n",
        "sho = solve_ivp(harmonic, [0,1000], y0 = y, t_eval = t)\n",
        "\n",
        "plt.plot(t,sho.y[0])\n",
        "plt.ylabel(\"Position\")\n",
        "plt.xlabel(\"Time\")\n",
        "plt.title('SHO', fontsize = 20)\n",
        "\n",
        "t = np.linspace(0,15,1000)\n",
        "y = [0,1]\n",
        "gamma = 1\n",
        "omega_sqr = 100\n",
        "def sho(t,y):\n",
        "    solution = (y[1],(-gamma*y[1]-omega_sqr*y[0]))\n",
        "    return solution\n",
        "solution = solve_ivp(sho, [0,1000], y0 = y, t_eval = t)\n",
        "plt.plot(t,solution.y[0])\n",
        "plt.ylabel(\"POSICION\")\n",
        "plt.xlabel(\"TIEMPO\")\n",
        "plt.title('OSCILACIONES', fontsize = 20)"
      ],
      "execution_count": null,
      "outputs": [
        {
          "output_type": "execute_result",
          "data": {
            "text/plain": [
              "Text(0.5, 1.0, 'OSCILACIONES')"
            ]
          },
          "metadata": {},
          "execution_count": 50
        },
        {
          "output_type": "display_data",
          "data": {
            "image/png": "[encoded data removed]",
            "text/plain": [
              "<Figure size 432x288 with 1 Axes>"
            ]
          },
          "metadata": {}
        }
      ]
    },
    {
      "cell_type": "code",
      "metadata": {
        "colab": {
          "base_uri": "https://localhost:8080/",
          "height": 129
        },
        "id": "pfhraiHmD_6Z",
        "outputId": "27cd7cd2-a713-4178-8ddd-c3b0ab1076ee"
      },
      "source": [
        "import pandas as pd\n",
        "import numpy as np\n",
        "import requests\n",
        "from termcolor import colored as cl\n",
        "from math import floor\n",
        "import matplotlib.pyplot as plt\n",
        "plt.rcParams[‘figure.figsize’] = (20, 10)\n",
        "plt.style.use(‘fivethirtyeight’)\n",
        "\n",
        "def get_historical_data(symbol, start_date = None):\n",
        "    api_key = open(r'api_key.txt')\n",
        "    api_url = f'https://www.alphavantage.co/query?function=TIME_SERIES_DAILY_ADJUSTED&symbol={symbol}&apikey={api_key}&outputsize=full'\n",
        "    raw_df = requests.get(api_url).json()\n",
        "    df = pd.DataFrame(raw_df[f'Time Series (Daily)']).T\n",
        "    df = df.rename(columns = {'1. open': 'open', '2. high': 'high', '3. low': 'low', '4. close': 'Close', '5. adjusted close': 'adj close', '6. volume': 'volume'})\n",
        "    for i in df.columns:\n",
        "        df[i] = df[i].astype(float)\n",
        "    df.index = pd.to_datetime(df.index)\n",
        "    df = df.iloc[::-1].drop(['7. dividend amount', '8. split coefficient'], axis = 1)\n",
        "    if start_date:\n",
        "        df = df[df.index >= start_date]\n",
        "    return df\n",
        "\n",
        "nflx = get_historical_data('NFLX', '2020-01-01')\n",
        "nflx"
      ],
      "execution_count": null,
      "outputs": [
        {
          "output_type": "error",
          "ename": "SyntaxError",
          "evalue": "ignored",
          "traceback": [
            "\u001b[0;36m  File \u001b[0;32m\"<ipython-input-23-5fe79f81e060>\"\u001b[0;36m, line \u001b[0;32m7\u001b[0m\n\u001b[0;31m    plt.rcParams[‘figure.figsize’] = (20, 10)\u001b[0m\n\u001b[0m                       ^\u001b[0m\n\u001b[0;31mSyntaxError\u001b[0m\u001b[0;31m:\u001b[0m invalid character in identifier\n"
          ]
        }
      ]
    },
    {
      "cell_type": "code",
      "metadata": {
        "colab": {
          "base_uri": "https://localhost:8080/",
          "height": 301
        },
        "id": "uWAkFAvsD_80",
        "outputId": "2483c562-225a-45a8-8508-2a023981a940"
      },
      "source": [
        "import numpy as np\n",
        "from numpy import sin, cos\n",
        "from scipy.integrate import odeint\n",
        "from matplotlib import pyplot as plt\n",
        "\n",
        "\n",
        "# define the equations\n",
        "def equations(y0, t):\n",
        "\ttheta, x = y0\n",
        "\tf = [x, -(g/l) * sin(theta)]\n",
        "\treturn f\n",
        "\n",
        "def plot_results(time, theta1, theta2):\n",
        "\tplt.plot(time, theta1[:,0])\n",
        "\tplt.plot(time, theta2)\n",
        "\n",
        "\ts = '(Initial Angle = ' + str(initial_angle) + ' degrees)'\n",
        "\tplt.title('Pendulum Motion: ' + s)\n",
        "\tplt.xlabel('time (s)')\n",
        "\tplt.ylabel('angle (rad)')\n",
        "\tplt.grid(True)\n",
        "\tplt.legend(['nonlinear', 'linear'], loc='lower right')\n",
        "\tplt.show()\n",
        "\n",
        "# parameters\n",
        "g = 9.81\n",
        "l = 1.0\n",
        "\n",
        "time = np.arange(0, 10.0, 0.025)\n",
        "\n",
        "# initial conditions\n",
        "initial_angle = 130.0\n",
        "theta0 = np.radians(initial_angle)\n",
        "x0 = np.radians(0.0)\n",
        "\n",
        "# find the solution to the nonlinear problem\n",
        "theta1 = odeint(equations, [theta0, x0],  time)\n",
        "\n",
        "# find the solution to the linear problem\n",
        "w = np.sqrt(g/l)\n",
        "theta2 = [theta0 * cos(w*t) for t in time]\n",
        "\n",
        "# plot the results\n",
        "plot_results(time, theta1, theta2)"
      ],
      "execution_count": null,
      "outputs": [
        {
          "output_type": "display_data",
          "data": {
            "image/png": "[encoded data removed]",
            "text/plain": [
              "<Figure size 432x288 with 1 Axes>"
            ]
          },
          "metadata": {}
        }
      ]
    },
    {
      "cell_type": "code",
      "metadata": {
        "colab": {
          "base_uri": "https://localhost:8080/",
          "height": 129
        },
        "id": "7P3NvO_-D__a",
        "outputId": "8801616d-b767-4a98-d70f-de383445675a"
      },
      "source": [
        "def f(X, t):\n",
        "    \"\"\"\n",
        "    The derivative function\n",
        "    \"\"\"\n",
        "    # To be completed\n",
        "    return\n",
        "\n",
        "    def Euler(func, X0, t):\n",
        "\n",
        " #   Euler integrator.\n",
        "\n",
        "    dt = t[1] - t[0]\n",
        "    nt = len(t)\n",
        "    X  = np.zeros([nt, len(X0)])\n",
        "    X[0] = X0\n",
        "    for i in range(nt-1):\n",
        "        X[i+1] = X[i] + func(X[i], t[i]) * dt\n",
        "    return X\n",
        "\n",
        "def RK4(func, X0, t):\n",
        "    \"\"\"\n",
        "    Runge and Kutta 4 integrator.\n",
        "    \"\"\"\n",
        "    dt = t[1] - t[0]\n",
        "    nt = len(t)\n",
        "    X  = np.zeros([nt, len(X0)])\n",
        "    X[0] = X0\n",
        "    for i in range(nt-1):\n",
        "        k1 = func(X[i], t[i])\n",
        "        k2 = func(X[i] + dt/2. * k1, t[i] + dt/2.)\n",
        "        k3 = func(X[i] + dt/2. * k2, t[i] + dt/2.)\n",
        "        k4 = func(X[i] + dt    * k3, t[i] + dt)\n",
        "        X[i+1] = X[i] + dt / 6. * (k1 + 2. * k2 + 2. * k3 + k4)\n",
        "    return X\n",
        "\n",
        "# ODEint is preloaded."
      ],
      "execution_count": null,
      "outputs": [
        {
          "output_type": "error",
          "ename": "IndentationError",
          "evalue": "ignored",
          "traceback": [
            "\u001b[0;36m  File \u001b[0;32m\"<ipython-input-27-ccbec924409b>\"\u001b[0;36m, line \u001b[0;32m12\u001b[0m\n\u001b[0;31m    dt = t[1] - t[0]\u001b[0m\n\u001b[0m     ^\u001b[0m\n\u001b[0;31mIndentationError\u001b[0m\u001b[0;31m:\u001b[0m expected an indented block\n"
          ]
        }
      ]
    },
    {
      "cell_type": "code",
      "metadata": {
        "colab": {
          "base_uri": "https://localhost:8080/",
          "height": 129
        },
        "id": "ULE264YMIPXZ",
        "outputId": "60b65b10-a041-43f6-afbb-60fdc373f4da"
      },
      "source": [
        "import numpy as np\n",
        "import scipy as sp\n",
        "\n",
        "def h(m,n,lam):\n",
        "    fac=lam/16.0\n",
        "    if m-n==4:\n",
        "       return fac*np.sqrt(1.0*(n+1)*(n+2)*(n+3)*(n+4))\n",
        "    elif mn==2:\n",
        "       return fac*2*(3+2*n)*np.sqrt(1.0*(n+1)=(n+2))\n",
        "    elif n==m:\n",
        "       return fac*(3+6*n+6*n*n)+n+0.5\n",
        "    elif m-n==-2:\n",
        "       return fac*2*(2*n-1)*np.sqrt (1.0*n*(n-1))\n",
        "    elif m-n==-4:\n",
        "       return fac*np.sqrt(1.0*n*(n-1)*(n-2)*(n-3))\n",
        "    else:\n",
        "       return 0\n",
        "def es(lam,N):\n",
        "    mt=np.matrix([[h(m,n, lam) for m in xrange(N)]for n in xrange\n",
        "    return sp.linalg.eigvalsh(mt)\n",
        "\n",
        "print es(0.,10)\n",
        "print es(0.1,1)\n",
        "print es(0.1,11)\n",
        "print es (1., 101)"
      ],
      "execution_count": null,
      "outputs": [
        {
          "output_type": "error",
          "ename": "SyntaxError",
          "evalue": "ignored",
          "traceback": [
            "\u001b[0;36m  File \u001b[0;32m\"<ipython-input-30-580a5b5a4010>\"\u001b[0;36m, line \u001b[0;32m20\u001b[0m\n\u001b[0;31m    return sp.linalg.eigvalsh(mt)\u001b[0m\n\u001b[0m         ^\u001b[0m\n\u001b[0;31mSyntaxError\u001b[0m\u001b[0;31m:\u001b[0m invalid syntax\n"
          ]
        }
      ]
    },
    {
      "cell_type": "code",
      "metadata": {
        "colab": {
          "base_uri": "https://localhost:8080/",
          "height": 129
        },
        "id": "Yb1Myea0IPaZ",
        "outputId": "fea979ae-3872-472f-92c8-cfacf21e599e"
      },
      "source": [
        "import numpy as np\n",
        "import matplotlib.pyplot as plt\n",
        "\n",
        "\"\"\"Second-order ODE Solver.\n",
        "    Parameters\n",
        "    ------------\n",
        "    omega_0 : float\n",
        "            initial angular velocity\n",
        "    theta_0 : float\n",
        "            initial angular displacement\n",
        "    eta : float\n",
        "        time step size\n",
        "    n_iter : int\n",
        "           number of steps\n",
        "\n",
        "    Attributes\n",
        "    -----------\n",
        "    time_ : 1d-array\n",
        "        Stores time values for each time step.\n",
        "    omega_ : 1d-array\n",
        "        Stores angular velocity values for each time step.\n",
        "    theta_ : 1d-arra\n",
        "       Stores angular displacement values for each time step.\n",
        "\n",
        "    Methods\n",
        "    -----------\n",
        "    euler(alpha): Implements the Euler algorithm for the acceleration function alpha.\n",
        "\n",
        "    midpoint(alpha): Implements the Midpoint algorithm for the acceleration function alpha.\n",
        "\n",
        "    verlet(alpha): Implements the Verlet algorithm for the acceleration function alpha.\n",
        "    \"\"\"\n",
        "def __init__(self, omega_0 = 0, theta_0 = 10, eta=0.01, n_iter=10):\n",
        "        self.omega_0 = omega_0\n",
        "        self.theta_0 = theta_0\n",
        "        self.eta = eta\n",
        "        self.n_iter = n_iter\n",
        "\n",
        "    def euler(self,alpha):\n",
        "        \"\"\"Implements Euler Method.\n",
        "\n",
        "        Parameters\n",
        "        ----------\n",
        "        alpha : acceleration function\n",
        "\n",
        "        Returns\n",
        "        -------\n",
        "        self : object\n",
        "        \"\"\"\n",
        "        self.time_ = np.zeros(self.n_iter)\n",
        "        self.omega_ = np.zeros(self.n_iter)\n",
        "        self.theta_ = np.zeros(self.n_iter)\n",
        "        self.omega_[0] = self.omega_0\n",
        "        self.theta_[0] = self.theta_0*np.pi/180.0\n",
        "\n",
        "        for i in range(self.n_iter-1):\n",
        "            self.time_[i+1] = self.time_[i] + self.eta\n",
        "            self.omega_[i+1] = self.omega_[i] + self.eta*alpha(self.theta_[i])\n",
        "            self.theta_[i+1] = self.theta_[i] + self.eta*self.omega_[i]\n",
        "        return self\n",
        "\n",
        "    def midpoint(self,alpha):\n",
        "        #Implement Midpoint Method.\n",
        "\n",
        "        #Parameters\n",
        "\n",
        "        alpha : acceleration function\n",
        "        Returns\n",
        "\n",
        "        #self : object\n",
        "\n",
        "        self.time_ = np.zeros(self.n_iter)\n",
        "        self.omega_ = np.zeros(self.n_iter)\n",
        "        self.theta_ = np.zeros(self.n_iter)\n",
        "        self.omega_[0] = self.omega_0\n",
        "        self.theta_[0] = self.theta_0*np.pi/180.0\n",
        "\n",
        "        for i in range(self.n_iter-1):\n",
        "            self.time_[i+1] = self.time_[i] + self.eta\n",
        "            self.omega_[i+1] = self.omega_[i] + self.eta*alpha(self.theta_[i])\n",
        "            self.theta_[i+1] = self.theta_[i] + 0.5*self.eta*(self.omega_[i]+self.omega_[i+1])\n",
        "        return self\n",
        "\n",
        "    def verlet(self,alpha):\n",
        "        #Implement Verlet Method.\n",
        "\n",
        "        #Parameters\n",
        "\n",
        "        alpha : acceleration function\n",
        "        Returns\n",
        "\n",
        "        #self : object\n",
        "\n",
        "        self.time_ = np.zeros(self.n_iter)\n",
        "        self.theta_ = np.zeros(self.n_iter)\n",
        "        self.theta_[0] = self.theta_0*np.pi/180.0\n",
        "        self.time_[1]= self.eta\n",
        "        self.theta_[1] = self.theta_[0]+self.omega_0*self.eta +0.5* (self.eta**2)*alpha(self.theta_[0])\n",
        "\n",
        "        for i in range(self.n_iter-2):\n",
        "            self.time_[i+2] = self.time_[i+1] + self.eta\n",
        "            self.theta_[i+2] = 2.0*self.theta_[i+1] -self.theta_[i] + (self.eta**2)*alpha(self.theta_[i+1])\n",
        "        return self\n",
        "\n",
        "        def alpha(x):\n",
        "    return -np.sin(x)"
      ],
      "execution_count": null,
      "outputs": [
        {
          "output_type": "error",
          "ename": "IndentationError",
          "evalue": "ignored",
          "traceback": [
            "\u001b[0;36m  File \u001b[0;32m\"<ipython-input-33-c0be11bf24f5>\"\u001b[0;36m, line \u001b[0;32m39\u001b[0m\n\u001b[0;31m    def euler(self,alpha):\u001b[0m\n\u001b[0m                          ^\u001b[0m\n\u001b[0;31mIndentationError\u001b[0m\u001b[0;31m:\u001b[0m unindent does not match any outer indentation level\n"
          ]
        }
      ]
    },
    {
      "cell_type": "code",
      "metadata": {
        "colab": {
          "base_uri": "https://localhost:8080/",
          "height": 129
        },
        "id": "WTvmdVtaIPdE",
        "outputId": "fb7d61f4-21a5-4ac5-8d24-138d28ed111b"
      },
      "source": [
        "import numpy as np\n",
        "import matplotlib.pyplot as plt\n",
        "from scipy.integrate import odeint\n",
        "import glob\n",
        "import os\n",
        "\n",
        "def simple_pendulum_deriv(x, t, m, g, l):\n",
        "    \"\"\"The simple pendulum subject to zero damping and zero control input\n",
        "    Based on material from the MIT OCW subject \"Underactuated Robotics\"\n",
        "    \"lecture 2: the simple pendulum\" given by Russell Tedrake, the\n",
        "    maths and some of the related diagrams are given at about 51 minutes\n",
        "    in.\n",
        "    \"\"\"\n",
        "    nx = np.zeros(2)\n",
        "    nx[0] = x[1]\n",
        "    nx[1] = -(m * g * l * np.sin(x[0]))\n",
        "    return nx\n",
        "\n",
        "def plot_orbit( x0 ):\n",
        "    \"\"\"Plot the phase space of the pendulum\n",
        "    \"\"\"\n",
        "    # Pick ts to be sufficiently large (by inspection) to make sure\n",
        "    # that all of the cases of interest will have reached their\n",
        "    # homoclinic orbit\n",
        "    ts = np.linspace(0.0, 50.0, 1001)\n",
        "    ys = odeint(simple_pendulum_deriv, x0, ts, args = (1.0, 9.8, 1.0))\n",
        "    plt.plot(ys[:,0], ys[:,1])\n",
        "\n",
        "def pendulum_video( q0, ts, output_file):\n",
        "    ts = np.linspace(0.0, 5.0, 101)\n",
        "    qs = odeint(simple_pendulum_deriv, q0, ts, args = (1.0, 9.8, 1.0))\n",
        "    pendulum_video_sequence(qs, output_file)\n",
        "\n",
        "def plot_pendulum(q, length = 1.0):\n",
        "    xs = [  0.0,  length * np.sin(q[0]) ]\n",
        "    ys = [  0.0, -length * np.cos(q[0]) ]\n",
        "    plt.plot( xs, ys, 'b-', linewidth = 3 )\n",
        "    plt.plot( xs[1], ys[1], 'ro' )\n",
        "    plt.gca().set_xlim([-1.2, 1.2])\n",
        "    plt.gca().set_ylim([-1.2, 1.2])\n",
        "    plt.gca().set_aspect('equal')\n",
        "\n",
        "def encode_video(input_pattern, output_filename):\n",
        "    # taken (almost) directly from the matplotlib website:\n",
        "    # http://matplotlib.sourceforge.net/faq/howto_faq.html#make-a-movie\n",
        "    os.system(\"mencoder 'mf://%s' -mf type=png:fps=10 -ovc lavc -lavcopts vcodec\n",
        "\n",
        "def pendulum_video_sequence(qs, output_filename):\n",
        "    for n, q in enumerate(qs):\n",
        "        print n, q\n",
        "        plt.clf()\n",
        "        plot_pendulum( q )\n",
        "        plt.savefig( '_tmp%03d.png' % n )\n",
        "    encode_video('_tmp*.png', output_filename)\n",
        "    for fname in glob.glob('_tmp*.png'):\n",
        "        os.remove(fname)\n",
        "\n",
        "def plot_interesting_orbits():\n",
        "    plt.clf()\n",
        "    # start with zero velocity at a number of differing angles\n",
        "    # scipy odeint does some pretty weird things if you have enough\n",
        "    # velocity to loop around\n",
        "    plot_orbit(np.array([np.pi * 0.25, 0.0]))\n",
        "    plot_orbit(np.array([np.pi * 0.5, 0.0]))\n",
        "    plot_orbit(np.array([np.pi * 0.9, 0.0]))\n",
        "    plot_orbit(np.array([np.pi * 0.999, 0.0]))\n",
        "    plt.title('homoclinic orbits for an undamped simpled pendulum')\n",
        "    plt.xlabel(r'$\\theta$')\n",
        "    plt.ylabel(r'$\\dot{\\theta}$')\n",
        "    plt.show()\n",
        "\n",
        "def interesting_videos():\n",
        "    ts = np.linspace(0.0, 50.0, 501)\n",
        "    pendulum_video( np.array([np.pi/2.0, 0.0]), ts, 'undamped_simple_pendulum01.mp4' )\n",
        "    pendulum_video( np.array([3*np.pi/4.0, 0.0]), ts, 'undamped_simple_pendulum02.mp4' )"
      ],
      "execution_count": null,
      "outputs": [
        {
          "output_type": "error",
          "ename": "SyntaxError",
          "evalue": "ignored",
          "traceback": [
            "\u001b[0;36m  File \u001b[0;32m\"<ipython-input-34-331656c61cfd>\"\u001b[0;36m, line \u001b[0;32m46\u001b[0m\n\u001b[0;31m    os.system(\"mencoder 'mf://%s' -mf type=png:fps=10 -ovc lavc -lavcopts vcodec\u001b[0m\n\u001b[0m                                                                                ^\u001b[0m\n\u001b[0;31mSyntaxError\u001b[0m\u001b[0;31m:\u001b[0m EOL while scanning string literal\n"
          ]
        }
      ]
    },
    {
      "cell_type": "code",
      "metadata": {
        "colab": {
          "base_uri": "https://localhost:8080/",
          "height": 129
        },
        "id": "loFTIlAANS8t",
        "outputId": "70de35ae-2cce-4038-9f5a-80bb08c3a24f"
      },
      "source": [
        "import numpy as np\n",
        "import matplotlib.pyplot as plt\n",
        "from scipy.integrate import odeint\n",
        "import glob\n",
        "import os\n",
        "\n",
        "def simple_pendulum_deriv(x, t, m, g, l):\n",
        "    \"\"\"The simple pendulum subject to zero damping and zero control input\n",
        "    Based on material from the MIT OCW subject \"Underactuated Robotics\"\n",
        "    \"lecture 2: the simple pendulum\" given by Russell Tedrake, the\n",
        "    maths and some of the related diagrams are given at about 51 minutes\n",
        "    in.\n",
        "    \"\"\"\n",
        "    nx = np.zeros(2)\n",
        "    nx[0] = x[1]\n",
        "    nx[1] = -(m * g * l * np.sin(x[0]))\n",
        "    return nx\n",
        "\n",
        "def plot_orbit( x0 ):\n",
        "    \"\"\"Plot the phase space of the pendulum\n",
        "    \"\"\"\n",
        "    # Pick ts to be sufficiently large (by inspection) to make sure\n",
        "    # that all of the cases of interest will have reached their\n",
        "    # homoclinic orbit\n",
        "    ts = np.linspace(0.0, 50.0, 1001)\n",
        "    ys = odeint(simple_pendulum_deriv, x0, ts, args = (1.0, 9.8, 1.0))\n",
        "    plt.plot(ys[:,0], ys[:,1])\n",
        "\n",
        "def pendulum_video( q0, ts, output_file):\n",
        "    ts = np.linspace(0.0, 5.0, 101)\n",
        "    qs = odeint(simple_pendulum_deriv, q0, ts, args = (1.0, 9.8, 1.0))\n",
        "    pendulum_video_sequence(qs, output_file)\n",
        "\n",
        "def plot_pendulum(q, length = 1.0):\n",
        "    xs = [  0.0,  length * np.sin(q[0]) ]\n",
        "    ys = [  0.0, -length * np.cos(q[0]) ]\n",
        "    plt.plot( xs, ys, 'b-', linewidth = 3 )\n",
        "    plt.plot( xs[1], ys[1], 'ro' )\n",
        "    plt.gca().set_xlim([-1.2, 1.2])\n",
        "    plt.gca().set_ylim([-1.2, 1.2])\n",
        "    plt.gca().set_aspect('equal')\n",
        "\n",
        "def encode_video(input_pattern, output_filename):\n",
        "    # taken (almost) directly from the matplotlib website:\n",
        "    # http://matplotlib.sourceforge.net/faq/howto_faq.html#make-a-movie\n",
        "    os.system(\"mencoder 'mf://%s' -mf type=png:fps=10 -ovc lavc -lavcopts vcodec\n",
        "\n",
        "def pendulum_video_sequence(qs, output_filename):\n",
        "    for n, q in enumerate(qs):\n",
        "        print n, q\n",
        "        plt.clf()\n",
        "        plot_pendulum( q )\n",
        "        plt.savefig( '_tmp%03d.png' % n )\n",
        "    encode_video('_tmp*.png', output_filename)\n",
        "    for fname in glob.glob('_tmp*.png'):\n",
        "        os.remove(fname)\n",
        "\n",
        "def plot_interesting_orbits():\n",
        "    plt.clf()\n",
        "    # start with zero velocity at a number of differing angles\n",
        "    # scipy odeint does some pretty weird things if you have enough\n",
        "    # velocity to loop around\n",
        "    plot_orbit(np.array([np.pi * 0.25, 0.0]))\n",
        "    plot_orbit(np.array([np.pi * 0.5, 0.0]))\n",
        "    plot_orbit(np.array([np.pi * 0.9, 0.0]))\n",
        "    plot_orbit(np.array([np.pi * 0.999, 0.0]))\n",
        "    plt.title('homoclinic orbits for an undamped simpled pendulum')\n",
        "    plt.xlabel(r'$\\theta$')\n",
        "    plt.ylabel(r'$\\dot{\\theta}$')\n",
        "    plt.show()\n",
        "\n",
        "def interesting_videos():\n",
        "    ts = np.linspace(0.0, 50.0, 501)\n",
        "    pendulum_video( np.array([np.pi/2.0, 0.0]), ts, 'undamped_simple_pendulum01.mp4' )\n",
        "    pendulum_video( np.array([3*np.pi/4.0, 0.0]), ts, 'undamped_simple_pendulum02.mp4' )"
      ],
      "execution_count": null,
      "outputs": [
        {
          "output_type": "error",
          "ename": "SyntaxError",
          "evalue": "ignored",
          "traceback": [
            "\u001b[0;36m  File \u001b[0;32m\"<ipython-input-35-331656c61cfd>\"\u001b[0;36m, line \u001b[0;32m46\u001b[0m\n\u001b[0;31m    os.system(\"mencoder 'mf://%s' -mf type=png:fps=10 -ovc lavc -lavcopts vcodec\u001b[0m\n\u001b[0m                                                                                ^\u001b[0m\n\u001b[0;31mSyntaxError\u001b[0m\u001b[0;31m:\u001b[0m EOL while scanning string literal\n"
          ]
        }
      ]
    },
    {
      "cell_type": "code",
      "metadata": {
        "id": "jtZC8Pz-NS_X"
      },
      "source": [],
      "execution_count": null,
      "outputs": []
    },
    {
      "cell_type": "code",
      "metadata": {
        "colab": {
          "base_uri": "https://localhost:8080/",
          "height": 301
        },
        "id": "GzMoqQdyNTCE",
        "outputId": "bf6e3d1c-599e-477a-a55d-04016a978faa"
      },
      "source": [
        "import numpy as np\n",
        "import matplotlib.pyplot as plt\n",
        "m = 3.0\n",
        "g = 9.8\n",
        "r = 2.0\n",
        "I = 12.0\n",
        "h = 0.0025\n",
        "l=2.0\n",
        "cycle = 10.0\n",
        "t = np.arange(0, cycle, h)\n",
        "n = (int)((cycle)/h)\n",
        "initial_angle = 90.0\n",
        "y=np.zeros(n)\n",
        "v=np.zeros(n)\n",
        "def accel(theta):\n",
        "  return -(m*g*r/I)*np.sin(theta)\n",
        "y[0] = np.radians(initial_angle)\n",
        "v[0] = np.radians(0.0)\n",
        "for i in range(0, n-1):\n",
        "    k1y = h*v[i]\n",
        "    k1v = h*accel(y[i])\n",
        "    k2y = h*(v[i]+0.5*k1v)\n",
        "    k2v = h*accel(y[i]+0.5*k1y)\n",
        "    k3y = h*(v[i]+0.5*k2v)\n",
        "    k3v = h*accel(y[i]+0.5*k2y)\n",
        "    k4y = h*(v[i]+k3v)\n",
        "    k4v = h*accel(y[i]+k3y)\n",
        "    y[i+1] = y[i] + (k1y + 2 * k2y + 2 * k3y + k4y) / 6.0\n",
        "    v[i+1] = v[i] + (k1v + 2 * k2v + 2 * k3v + k4v) / 6.0\n",
        "\n",
        "    plt.plot(t, y)\n",
        "plt.title('Pendulum Motion:')\n",
        "plt.xlabel('time (s)')\n",
        "plt.ylabel('angle (rad)')\n",
        "plt.grid(True)\n",
        "plt.show()"
      ],
      "execution_count": null,
      "outputs": [
        {
          "output_type": "display_data",
          "data": {
            "image/png": "[encoded data removed]",
            "text/plain": [
              "<Figure size 432x288 with 1 Axes>"
            ]
          },
          "metadata": {}
        }
      ]
    },
    {
      "cell_type": "code",
      "metadata": {
        "colab": {
          "base_uri": "https://localhost:8080/",
          "height": 301
        },
        "id": "rXSSMm3KQv4M",
        "outputId": "fbb60a03-c648-4d4b-ea93-d53b3df272d9"
      },
      "source": [
        "import numpy as np\n",
        "import matplotlib.pyplot as plt\n",
        "m = 3.0\n",
        "g = 9.8\n",
        "r = 2.0\n",
        "I = 12.0\n",
        "h = 0.0025\n",
        "l=2.0\n",
        "cycle = 10.0\n",
        "t = np.arange(0, cycle, h)\n",
        "# step height h\n",
        "n = len(t)\n",
        "initial_angle = 90.0\n",
        "y=np.zeros(n)\n",
        "v=np.zeros(n)\n",
        "def accel(theta): return -(m*g*r/I)*np.sin(theta)\n",
        "y[0] = np.radians(initial_angle)\n",
        "v[0] = np.radians(0.0)\n",
        "\n",
        "for i in range(0, n-1):\n",
        "    k1y = h*v[i]\n",
        "    k1v = h*accel(y[i])\n",
        "\n",
        "    k2y = h*(v[i]+0.5*k1v)\n",
        "    k2v = h*accel(y[i]+0.5*k1y)\n",
        "\n",
        "    k3y = h*(v[i]+0.5*k2v)\n",
        "    k3v = h*accel(y[i]+0.5*k2y)\n",
        "\n",
        "    k4y = h*(v[i]+k3v)\n",
        "    k4v = h*accel(y[i]+k3y)\n",
        "\n",
        "    # Update next value of y\n",
        "    y[i+1] = y[i] + (k1y + 2 * k2y + 2 * k3y + k4y) / 6.0\n",
        "    v[i+1] = v[i] + (k1v + 2 * k2v + 2 * k3v + k4v) / 6.0\n",
        "\n",
        "plt.plot(t, y)\n",
        "plt.title('Pendulum Motion:')\n",
        "plt.xlabel('time (s)')\n",
        "plt.ylabel('angle (rad)')\n",
        "plt.grid(True)\n",
        "plt.show()"
      ],
      "execution_count": null,
      "outputs": [
        {
          "output_type": "display_data",
          "data": {
            "image/png": "[encoded data removed]",
            "text/plain": [
              "<Figure size 432x288 with 1 Axes>"
            ]
          },
          "metadata": {}
        }
      ]
    },
    {
      "cell_type": "code",
      "metadata": {
        "colab": {
          "base_uri": "https://localhost:8080/",
          "height": 301
        },
        "id": "olxKVOlgQv6-",
        "outputId": "d98a6afc-86f3-4eb0-8516-fb37b49fa913"
      },
      "source": [
        "import numpy as np\n",
        "import matplotlib.pyplot as plt\n",
        "m = 3.0\n",
        "g = 9.8\n",
        "r = 2.0\n",
        "I = 12.0\n",
        "h = 0.0025\n",
        "l=2.0\n",
        "cycle = 10.0\n",
        "t = np.arange(0, cycle, h)\n",
        "# step height h\n",
        "n = len(t)\n",
        "initial_angle = 90.0\n",
        "y=np.zeros(n)\n",
        "v=np.zeros(n)\n",
        "def accel(theta): return -(m*g*r/I)*np.sin(theta)\n",
        "y[0] = np.radians(initial_angle)\n",
        "v[0] = np.radians(0.0)\n",
        "\n",
        "for i in range(0, n-1):\n",
        "    k1y = h*v[i]\n",
        "    k1v = h*accel(y[i])\n",
        "\n",
        "    k2y = h*(v[i]+0.5*k1v)\n",
        "    k2v = h*accel(y[i]+0.5*k1y)\n",
        "\n",
        "    k3y = h*(v[i]+0.5*k2v)\n",
        "    k3v = h*accel(y[i]+0.5*k2y)\n",
        "\n",
        "    k4y = h*(v[i]+k3v)\n",
        "    k4v = h*accel(y[i]+k3y)\n",
        "\n",
        "    # Update next value of y\n",
        "    y[i+1] = y[i] + (k1y + 2 * k2y + 2 * k3y + k4y) / 6.0\n",
        "    v[i+1] = v[i] + (k1v + 2 * k2v + 2 * k3v + k4v) / 6.0\n",
        "\n",
        "plt.plot(t, y)\n",
        "plt.title('MOVIMIENTO PENDULAR:')\n",
        "plt.xlabel('TIEMPO (s)')\n",
        "plt.ylabel('ÁNGULO (rad)')\n",
        "plt.grid(True)\n",
        "plt.show()"
      ],
      "execution_count": null,
      "outputs": [
        {
          "output_type": "display_data",
          "data": {
            "image/png": "[encoded data removed]",
            "text/plain": [
              "<Figure size 432x288 with 1 Axes>"
            ]
          },
          "metadata": {}
        }
      ]
    },
    {
      "cell_type": "code",
      "metadata": {
        "colab": {
          "base_uri": "https://localhost:8080/",
          "height": 373
        },
        "id": "lDIKL54dQv9h",
        "outputId": "31cacbaf-9cc4-4e42-cfef-1702b276723b"
      },
      "source": [
        "from scipy import *\n",
        "from matplotlib.pyplot import *\n",
        "##A pendulum simulation using fourth order\n",
        "##Runge-Kutta integration\n",
        "\n",
        "ts=.05 #time step size\n",
        "td=40 #trial duration\n",
        "te=int(td/ts) #no of timesteps\n",
        "\n",
        "mu=0.1 #friction factor\n",
        "m=1 #mass\n",
        "g=9.81 #grav. acceleration\n",
        "l=1 #length\n",
        "\n",
        "th=[pi/4]#((rand()*2)-1)*pi] #initial angle\n",
        "om=[0] #initial angular velocity\n",
        "u=0 #torque\n",
        "\n",
        "for j in range(te):\n",
        "    #Euler approximation\n",
        "    th.append(th[j] + ts*om[j])\n",
        "    f1 = (-mu*om[j] + m*g*l*sin(th[j]) + u)/(m*(l^2))\n",
        "    om.append(om[j] + ts*f1)\n",
        "\n",
        "    #approximation 1 at mid-interval\n",
        "    th2 = th[j+1] + (ts/2)*om[j+1]\n",
        "    f2 = (-mu*om[j+1] + m*g*l*sin(th[j+1]) + u)/(m*(l^2))\n",
        "    om2 = om[j+1] + (ts/2)*f2\n",
        "\n",
        "    #approximation 2 at mid-interval\n",
        "    th3 = th2 + (ts/2)*om2\n",
        "    f3 = (-mu*om2 + m*g*l*sin(th2) + u)/( m*(l^2))\n",
        "    om3 = om2 + (ts/2)*f3\n",
        "\n",
        "    #approximation at next time step\n",
        "    th4 = th3 + (ts)*om3\n",
        "    f4 = (-mu*om3 + m*g*l*sin(th3) + u)/( m*(l^2))\n",
        "    om4 = om3 + (ts)*f4\n",
        "\n",
        "    dth=(om[j] + 2*om[j+1] + 2*om2 + om3)/6\n",
        "    dom=(f1 + 2*f2 + 2*f3 + f4)/6\n",
        "    th[j+1] = th[j] + ts*dth\n",
        "    om[j+1] = om[j] + ts*dom\n",
        "\n",
        "subplot(211),plot(th),xlabel('Angle'),ylabel('')\n",
        "subplot(212),plot(om,'r'),xlabel('Angular velocity'),ylabel('')\n",
        "show()"
      ],
      "execution_count": null,
      "outputs": [
        {
          "output_type": "stream",
          "name": "stderr",
          "text": [
            "/usr/local/lib/python3.7/dist-packages/ipykernel_launcher.py:24: DeprecationWarning: scipy.sin is deprecated and will be removed in SciPy 2.0.0, use numpy.sin instead\n",
            "/usr/local/lib/python3.7/dist-packages/ipykernel_launcher.py:29: DeprecationWarning: scipy.sin is deprecated and will be removed in SciPy 2.0.0, use numpy.sin instead\n",
            "/usr/local/lib/python3.7/dist-packages/ipykernel_launcher.py:34: DeprecationWarning: scipy.sin is deprecated and will be removed in SciPy 2.0.0, use numpy.sin instead\n",
            "/usr/local/lib/python3.7/dist-packages/ipykernel_launcher.py:39: DeprecationWarning: scipy.sin is deprecated and will be removed in SciPy 2.0.0, use numpy.sin instead\n"
          ]
        },
        {
          "output_type": "display_data",
          "data": {
            "image/png": "[encoded data removed]",
            "text/plain": [
              "<Figure size 432x288 with 2 Axes>"
            ]
          },
          "metadata": {}
        }
      ]
    },
    {
      "cell_type": "code",
      "metadata": {
        "colab": {
          "base_uri": "https://localhost:8080/",
          "height": 129
        },
        "id": "PFaIoEQcQv_2",
        "outputId": "97ba5591-37b5-46a7-9347-01f2bedf1ec9"
      },
      "source": [
        "# ODEFUN contains the ode functions of the system\n",
        "# TSPAN  is a 1D vector of equally spaced t values\n",
        "# Y0     contains the intial conditions for the system variables\n",
        "\n",
        "    # Initialise step-size variables\n",
        "    t = tspan(:); % ensure column vector = (0:h:1)';\n",
        "    h = t(2)-t(1);% define h from t\n",
        "    N = length(t);\n",
        "\n",
        "    #Initialise y vector, with a column for each equation in odefun\n",
        "    y = zeros(N, numel(y0));\n",
        "    % Starting conditions\n",
        "    y(1, :) = y0(:)';  % Set intial conditions using row vector of y0\n",
        "\n",
        "    k = zeros(4, numel(y0));              % Initialise K vectors\n",
        "    b = repmat([1 2 2 1]', 1, numel(y0)); % RK4 coefficients\n",
        "\n",
        "    # Iterate, computing each K value in turn, then the i+1 step values\n",
        "    for i = 1:(N-1)\n",
        "        k(1, :) = odefun(t(i), y(i,:));\n",
        "        k(2, :) = odefun(t(i) + (h/2), y(i,:) + (h/2)*k(1,:));\n",
        "        k(3, :) = odefun(t(i) + (h/2), y(i,:) + (h/2)*k(2,:));\n",
        "        k(4, :) = odefun(t(i) + h, y(i,:) + h*k(3,:));\n",
        "\n",
        "        y(i+1, :) = y(i, :) + (h/6)*sum(b.*k);\n",
        "    end\n",
        "end"
      ],
      "execution_count": null,
      "outputs": [
        {
          "output_type": "error",
          "ename": "IndentationError",
          "evalue": "ignored",
          "traceback": [
            "\u001b[0;36m  File \u001b[0;32m\"<ipython-input-43-128503030c67>\"\u001b[0;36m, line \u001b[0;32m6\u001b[0m\n\u001b[0;31m    t = tspan(:); % ensure column vector = (0:h:1)';\u001b[0m\n\u001b[0m    ^\u001b[0m\n\u001b[0;31mIndentationError\u001b[0m\u001b[0;31m:\u001b[0m unexpected indent\n"
          ]
        }
      ]
    },
    {
      "cell_type": "code",
      "metadata": {
        "colab": {
          "base_uri": "https://localhost:8080/",
          "height": 180
        },
        "id": "IUoggl8IQwCK",
        "outputId": "f34e5cbb-edc6-4a7c-b5ff-e049a973f7a0"
      },
      "source": [
        "v = dy / dt\n",
        "acceleration = dv / dt"
      ],
      "execution_count": null,
      "outputs": [
        {
          "output_type": "error",
          "ename": "NameError",
          "evalue": "ignored",
          "traceback": [
            "\u001b[0;31m---------------------------------------------------------------------------\u001b[0m",
            "\u001b[0;31mNameError\u001b[0m                                 Traceback (most recent call last)",
            "\u001b[0;32m<ipython-input-44-63fb79d3f6eb>\u001b[0m in \u001b[0;36m<module>\u001b[0;34m()\u001b[0m\n\u001b[0;32m----> 1\u001b[0;31m \u001b[0mv\u001b[0m \u001b[0;34m=\u001b[0m \u001b[0mdy\u001b[0m \u001b[0;34m/\u001b[0m \u001b[0mdt\u001b[0m\u001b[0;34m\u001b[0m\u001b[0;34m\u001b[0m\u001b[0m\n\u001b[0m\u001b[1;32m      2\u001b[0m \u001b[0macceleration\u001b[0m \u001b[0;34m=\u001b[0m \u001b[0mdv\u001b[0m \u001b[0;34m/\u001b[0m \u001b[0mdt\u001b[0m\u001b[0;34m\u001b[0m\u001b[0;34m\u001b[0m\u001b[0m\n",
            "\u001b[0;31mNameError\u001b[0m: name 'dy' is not defined"
          ]
        }
      ]
    },
    {
      "cell_type": "code",
      "metadata": {
        "colab": {
          "base_uri": "https://localhost:8080/",
          "height": 231
        },
        "id": "nsw07FZYQwEH",
        "outputId": "540ee58e-0e04-4cd2-ff2d-24bd9d95b390"
      },
      "source": [
        "import matplotlib.pyplot as plt\n",
        "import numpy as np\n",
        "from scipy.integrate import odeint\n",
        "k = 4.0\n",
        "m = 1.0\n",
        "B = -1.0\n",
        "\n",
        "def harmonic(x,y,t):\n",
        "   return [y,-k*x/m + B*y/m]\n",
        "inicial = [0.7,0.5]\n",
        "t_output = n.arange[0.15,0.01]\n",
        "result = odeint[harmonic,inicial,t_output]\n",
        "\n",
        "fig,ax2 = plt.subplots(ncols=1, figsize = (10,10))\n",
        "xx, yy = result.t\n",
        "plt.plot(t_output,xx)\n",
        "plt.plot(t_output,yy)\n",
        "plt.show()"
      ],
      "execution_count": null,
      "outputs": [
        {
          "output_type": "error",
          "ename": "AttributeError",
          "evalue": "ignored",
          "traceback": [
            "\u001b[0;31m---------------------------------------------------------------------------\u001b[0m",
            "\u001b[0;31mAttributeError\u001b[0m                            Traceback (most recent call last)",
            "\u001b[0;32m<ipython-input-45-341985cdc6ef>\u001b[0m in \u001b[0;36m<module>\u001b[0;34m()\u001b[0m\n\u001b[1;32m      9\u001b[0m    \u001b[0;32mreturn\u001b[0m \u001b[0;34m[\u001b[0m\u001b[0my\u001b[0m\u001b[0;34m,\u001b[0m\u001b[0;34m-\u001b[0m\u001b[0mk\u001b[0m\u001b[0;34m*\u001b[0m\u001b[0mx\u001b[0m\u001b[0;34m/\u001b[0m\u001b[0mm\u001b[0m \u001b[0;34m+\u001b[0m \u001b[0mB\u001b[0m\u001b[0;34m*\u001b[0m\u001b[0my\u001b[0m\u001b[0;34m/\u001b[0m\u001b[0mm\u001b[0m\u001b[0;34m]\u001b[0m\u001b[0;34m\u001b[0m\u001b[0;34m\u001b[0m\u001b[0m\n\u001b[1;32m     10\u001b[0m \u001b[0minicial\u001b[0m \u001b[0;34m=\u001b[0m \u001b[0;34m[\u001b[0m\u001b[0;36m0.7\u001b[0m\u001b[0;34m,\u001b[0m\u001b[0;36m0.5\u001b[0m\u001b[0;34m]\u001b[0m\u001b[0;34m\u001b[0m\u001b[0;34m\u001b[0m\u001b[0m\n\u001b[0;32m---> 11\u001b[0;31m \u001b[0mt_output\u001b[0m \u001b[0;34m=\u001b[0m \u001b[0mn\u001b[0m\u001b[0;34m.\u001b[0m\u001b[0marange\u001b[0m\u001b[0;34m[\u001b[0m\u001b[0;36m0.15\u001b[0m\u001b[0;34m,\u001b[0m\u001b[0;36m0.01\u001b[0m\u001b[0;34m]\u001b[0m\u001b[0;34m\u001b[0m\u001b[0;34m\u001b[0m\u001b[0m\n\u001b[0m\u001b[1;32m     12\u001b[0m \u001b[0mresult\u001b[0m \u001b[0;34m=\u001b[0m \u001b[0modeint\u001b[0m\u001b[0;34m[\u001b[0m\u001b[0mharmonic\u001b[0m\u001b[0;34m,\u001b[0m\u001b[0minicial\u001b[0m\u001b[0;34m,\u001b[0m\u001b[0mt_output\u001b[0m\u001b[0;34m]\u001b[0m\u001b[0;34m\u001b[0m\u001b[0;34m\u001b[0m\u001b[0m\n\u001b[1;32m     13\u001b[0m \u001b[0;34m\u001b[0m\u001b[0m\n",
            "\u001b[0;31mAttributeError\u001b[0m: 'int' object has no attribute 'arange'"
          ]
        }
      ]
    },
    {
      "cell_type": "markdown",
      "metadata": {
        "id": "ZH_iRbR6XHNK"
      },
      "source": [
        "#2"
      ]
    },
    {
      "cell_type": "code",
      "metadata": {
        "colab": {
          "base_uri": "https://localhost:8080/"
        },
        "id": "ldouikXHQwGq",
        "outputId": "86389609-e68d-4073-cc02-e70cf21fc8f3"
      },
      "source": [
        "#METODOS NUMÉRICOS\n",
        "#ARELY ARTEAGA\n",
        "#ACTIVIDAD 3 b)\n",
        "#Programa que implementa el metodo de Runge-Kutta de orden 4 para sistemas de 2 ecuaciones\n",
        "\n",
        "#Ingresar los limites superior e inferior del intervalo [a,b]\n",
        "a = float(input(\"Ingrese el limite inferior (a): \"))\n",
        "b = float(input(\"Ingrese el limite superior (b): \"))\n",
        "\n",
        "#Ingresar el tamaño del intervalo\n",
        "N = int(input(\"Ingrese el entero N: \"))\n",
        "\n",
        "#Ingresar las condiciones iniciales y1,2(a) = w1,2\n",
        "w1 = float(input(\"Ingrese el valor de la condicion inicial y1(a) = \"))\n",
        "w2 = float(input(\"Ingrese el valor de la condicion inicial y2(a) = \"))\n",
        "\n",
        "#Definimos la solucion exacta de la ecuacion diferencial 1\n",
        "import math\n",
        "def g1(t):\n",
        "\treturn 0.2*math.exp(2*t)*(math.sin(t)-2*math.cos(t))\n",
        "\n",
        "#Definimos la solucion exacta de la ecuacion diferencial 2\n",
        "def g2(t):\n",
        "\treturn 0.2*math.exp(2*t)*(4*math.sin(t)-3*math.cos(t))\n",
        "\n",
        "#Arreglo inicial del metodo\n",
        "h = (b-a)/N\n",
        "t = a\n",
        "\n",
        "#Arreglo inicial de la tabla\n",
        "print(\"---------------------------------------------------------------------\")\n",
        "print(\" t\", \"  y(t)=u1(t)\" , \"     w1 \",\"    y'(t)=u2(t)\", \"    w2\",\\\n",
        " \"    |y(t)-w1|\", \"  |y'(t)-w2|\")\n",
        "print(\"---------------------------------------------------------------------\")\n",
        "print(format(t,'.1f'), format(g1(t),'.8f'),format(w1,'.8f'), format(g2(t),'.8f'),\\\n",
        "\tformat(w2,'.8f'), format(abs(g1(t)-w1),'.8f'), format(abs(g2(t)-w2),'.8f'))\n",
        "\n",
        "#Definimos la funcion f1(t,w) = y1'\n",
        "def f1(t,u1,u2):\n",
        "\treturn u2\n",
        "\n",
        "#Definimos la funcion f2(t,w) = y2'\n",
        "def f2(t,u1,u2):\n",
        "\treturn math.exp(2*t)*math.sin(t)-2*u1+2*u2\n",
        "\n",
        "#Inicio del metodo\n",
        "for i in range (1,N+1):\n",
        "\tk11 = h*f1(t,w1,w2)\n",
        "\tk12 = h*f2(t,w1,w2)\n",
        "\n",
        "\tk21 = h*f1(t+h/2, w1+k11/2, w2+k12/2)\n",
        "\tk22 = h*f2(t+h/2, w1+k11/2, w2+k12/2)\n",
        "\n",
        "\tk31 = h*f1(t+h/2, w1+k21/2, w2+k22/2)\n",
        "\tk32 = h*f2(t+h/2, w1+k21/2, w2+k22/2)\n",
        "\n",
        "\tk41 = h*f1(t+h, w1+k31, w2+k32)\n",
        "\tk42 = h*f2(t+h, w1+k31, w2+k32)\n",
        "\n",
        "\tw1 = w1+(k11+2*k21+2*k31+k41)/6\n",
        "\tw2 = w2+(k12+2*k22+2*k32+k42)/6\n",
        "\n",
        "\tt = round(a+i*h,2)\n",
        "#Resultados para la tabla\n",
        "\tprint(format(t,'.1f'), format(g1(t),'.8f'),format(w1,'.8f'), format(g2(t),'.8f'),\\\n",
        "\t\tformat(w2,'.8f'), format(abs(g1(t)-w1),'.8f'), format(abs(g2(t)-w2),'.8f'))\n",
        "print(\"---------------------------------------------------------------------\")"
      ],
      "execution_count": null,
      "outputs": [
        {
          "output_type": "stream",
          "name": "stdout",
          "text": [
            "Ingrese el limite inferior (a): 0\n",
            "Ingrese el limite superior (b): 10\n",
            "Ingrese el entero N: 10\n",
            "Ingrese el valor de la condicion inicial y1(a) = -1.5\n",
            "Ingrese el valor de la condicion inicial y2(a) = 1.5\n",
            "---------------------------------------------------------------------\n",
            " t   y(t)=u1(t)      w1      y'(t)=u2(t)     w2     |y(t)-w1|   |y'(t)-w2|\n",
            "---------------------------------------------------------------------\n",
            "0.0 -0.40000000 -1.50000000 -0.60000000 1.50000000 1.10000000 2.10000000\n",
            "1.0 -0.35339436 5.40160686 2.57874662 15.74109998 5.75500122 13.16235336\n",
            "2.0 19.01753043 44.83620389 53.34927432 77.60566189 25.81867345 24.25638758\n",
            "3.0 171.14296631 208.81276084 285.18038675 264.07041542 37.66979453 21.10997134\n",
            "4.0 328.19438032 273.53502356 -635.70665103 -877.25522729 54.65935675 241.54857626\n",
            "5.0 -6723.57271729 -7175.37752714 -20646.21544377 -21545.10444361 451.80480985 898.88899983\n",
            "6.0 -71604.16811792 -74214.95345516 -130144.35774119 -134130.41441086 2610.78533723 3986.05666967\n",
            "7.0 -204639.45271428 -222487.61190687 88088.27005760 76292.81526798 17848.15919259 11795.45478963\n",
            "8.0 2275481.09723864 2225798.22954940 7808995.00779359 7922226.36275915 49682.86768924 113231.35496557\n",
            "9.0 29341851.35455373 29937216.69663947 57542620.54277916 59283582.69188201 595365.34208573 1740962.14910286\n",
            "10.0 110047299.23252897 117948976.17632292 33100894.56294731 41476778.30390151 7901676.94379395 8375883.74095419\n",
            "---------------------------------------------------------------------\n"
          ]
        }
      ]
    },
    {
      "cell_type": "code",
      "metadata": {
        "id": "q5SXT28JQwI_"
      },
      "source": [],
      "execution_count": null,
      "outputs": []
    },
    {
      "cell_type": "code",
      "metadata": {
        "id": "binjZxSRNTEu"
      },
      "source": [],
      "execution_count": null,
      "outputs": []
    }
  ]
}