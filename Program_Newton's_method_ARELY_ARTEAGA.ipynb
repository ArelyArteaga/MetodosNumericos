{
  "nbformat": 4,
  "nbformat_minor": 0,
  "metadata": {
    "colab": {
      "provenance": [],
      "authorship_tag": "ABX9TyO6CP66WLfvlfA8yGf4dtfu"
    },
    "kernelspec": {
      "name": "python3",
      "display_name": "Python 3"
    },
    "language_info": {
      "name": "python"
    }
  },
  "cells": [
    {
      "cell_type": "code",
      "execution_count": null,
      "metadata": {
        "id": "Rvjfo2o9tM8q"
      },
      "outputs": [],
      "source": []
    },
    {
      "cell_type": "code",
      "metadata": {
        "colab": {
          "base_uri": "https://localhost:8080/"
        },
        "id": "GVfJB9CoJQye",
        "outputId": "d4d71511-de65-426b-c270-f5586028c48a"
      },
      "source": [
        "#Program Newton's Method\n",
        "#To obtain a solution to f(x)=0 given the differentiable function f and an initial approximation p0\n",
        "#ARELY ARTEAGA\n",
        "#Program Newton's method reproducing the results of page 69\n",
        "\n",
        "\n",
        "# Defining Function (METHOD IN ENGLISH)\n",
        "def f(x):\n",
        "    return x**3 - 5*x - 9\n",
        "\n",
        "# Defining derivative of function\n",
        "def g(x):\n",
        "    return 3*x**2 - 5\n",
        "\n",
        "# Implementing Newton Raphson Method\n",
        "\n",
        "def newtonRaphson(x0,e,N):\n",
        "    print('\\n\\n*** NEWTON RAPHSON METHOD IMPLEMENTATION ***')\n",
        "    step = 1\n",
        "    flag = 1\n",
        "    condition = True\n",
        "    while condition:\n",
        "        if g(x0) == 0.0:\n",
        "            print('Divide by zero error!')\n",
        "            break\n",
        "\n",
        "        x1 = x0 - f(x0)/g(x0)\n",
        "        print('Iteration-%d, x1 = %0.6f and f(x1) = %0.6f' % (step, x1, f(x1)))\n",
        "        x0 = x1\n",
        "        step = step + 1\n",
        "\n",
        "        if step > N:\n",
        "            flag = 0\n",
        "            break\n",
        "\n",
        "        condition = abs(f(x1)) > e\n",
        "\n",
        "    if flag==1:\n",
        "        print('\\nRequired root is: %0.8f' % x1)\n",
        "    else:\n",
        "        print('\\nNot Convergent.')\n",
        "\n",
        "\n",
        "# Input Section\n",
        "x0 = input('Enter Guess: ')\n",
        "e = input('Tolerable Error: ')\n",
        "N = input('Maximum Step: ')\n",
        "\n",
        "# Converting x0 and e to float\n",
        "x0 = float(x0)\n",
        "e = float(e)\n",
        "\n",
        "# Converting N to integer\n",
        "N = int(N)\n",
        "\n",
        "\n",
        "#Note: You can combine above three section like this\n",
        "# x0 = float(input('Enter Guess: '))\n",
        "# e = float(input('Tolerable Error: '))\n",
        "# N = int(input('Maximum Step: '))\n",
        "\n",
        "# Starting Newton Raphson Method\n",
        "newtonRaphson(x0,e,N)"
      ],
      "execution_count": null,
      "outputs": [
        {
          "output_type": "stream",
          "name": "stdout",
          "text": [
            "Enter Guess: 2\n",
            "Tolerable Error: 0.000001\n",
            "Maximum Step: 10\n",
            "\n",
            "\n",
            "*** NEWTON RAPHSON METHOD IMPLEMENTATION ***\n",
            "Iteration-1, x1 = 3.571429 and f(x1) = 18.696793\n",
            "Iteration-2, x1 = 3.009378 and f(x1) = 3.207103\n",
            "Iteration-3, x1 = 2.864712 and f(x1) = 0.185915\n",
            "Iteration-4, x1 = 2.855236 and f(x1) = 0.000771\n",
            "Iteration-5, x1 = 2.855197 and f(x1) = 0.000000\n",
            "\n",
            "Required root is: 2.85519654\n"
          ]
        }
      ]
    }
  ]
}