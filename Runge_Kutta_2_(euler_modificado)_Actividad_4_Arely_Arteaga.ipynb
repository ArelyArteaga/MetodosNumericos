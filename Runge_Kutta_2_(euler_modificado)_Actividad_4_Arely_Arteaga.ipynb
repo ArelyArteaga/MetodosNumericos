{
  "nbformat": 4,
  "nbformat_minor": 0,
  "metadata": {
    "colab": {
      "provenance": [],
      "authorship_tag": "ABX9TyODf9jhdgOx6oHYCXxkAdDE"
    },
    "kernelspec": {
      "name": "python3",
      "display_name": "Python 3"
    },
    "language_info": {
      "name": "python"
    }
  },
  "cells": [
    {
      "cell_type": "code",
      "execution_count": null,
      "metadata": {
        "id": "rKW83Gy6UelJ"
      },
      "outputs": [],
      "source": [
        "# PROGRAMA MÉTODOS DE TAYLOR\n",
        "#MÉTODOS NUMÉRICOS\n",
        "#ARELY ARTEAGA\n",
        "# Actividad 4\n",
        "#Programa que implementa el metodo de orden n de Taylor\n",
        "\n",
        "#Ingresar los limites superior e inferior del intervalo [a,b]\n",
        "a = float(input(\"Ingrese el limite inferior: \"))\n",
        "b = float(input(\"Ingrese el limite superior: \"))\n",
        "\n",
        "#Ingresar la condicion inicial y(a) = r\n",
        "r = float(input(\"Ingrese el valor r de la condicion inicial y(a) = \"))\n",
        "\n",
        "#Ingresar el valor de N\n",
        "N = int(input(\"Ingrese el entero N: \"))\n",
        "\n",
        "#Definimos la solucion exacta de la ecuacion diferencial f(t,y)\n",
        "import math\n",
        "def g(t):\n",
        "\treturn pow(t+1,2)-0.5*math.exp(t)\n",
        "\n",
        "#Arreglo inicial del metodo\n",
        "h = (b-a)/N\n",
        "t = a\n",
        "w = r\n",
        "print(\"---------------------------------\")\n",
        "print(\"ti\", \"     wi   \", \"|yi(ti)-wi|\")\n",
        "print(t, format(w,'.6f'), format(abs(w-g(t)),'.6f'))\n",
        "\n",
        "#Definimos la expansion de Taylor de orden n de f'(t,y)\n",
        "#Para el metodo de orden 2\n",
        "def f(t,w):\n",
        "\treturn (1 + h/2)*(w - t**2 + 1) - h*t\n",
        "\n",
        "#Inicio del metodo\n",
        "for i in range(1,N+1):\n",
        "\tw = w + h*f(t,w)\n",
        "\tt = round(a + i*h,2)\n",
        "#Resultados para la tabla 1\n",
        "\tprint(t, format(w,'.6f'), format(abs(w-g(t)),'.6f'))\n",
        "\n",
        "print(\"---------------------------------\")"
      ]
    },
    {
      "cell_type": "code",
      "source": [],
      "metadata": {
        "id": "vTWTxsI-Uld4"
      },
      "execution_count": null,
      "outputs": []
    },
    {
      "cell_type": "code",
      "source": [],
      "metadata": {
        "id": "YOIv22dCUl-h"
      },
      "execution_count": null,
      "outputs": []
    }
  ]
}